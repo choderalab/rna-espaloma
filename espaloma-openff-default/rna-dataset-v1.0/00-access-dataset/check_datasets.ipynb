{
 "cells": [
  {
   "cell_type": "markdown",
   "id": "6c8d8fe4-8139-4088-8666-1d18d596a8de",
   "metadata": {},
   "source": [
    "# Check datasets stored in QCArchive"
   ]
  },
  {
   "cell_type": "code",
   "execution_count": null,
   "id": "adccef4b-68fe-4a3c-8216-5a45bcab7ff5",
   "metadata": {},
   "outputs": [],
   "source": [
    "import os, sys\n",
    "import numpy as np\n",
    "import torch\n",
    "import espaloma as esp\n",
    "import qcportal as ptl\n",
    "from collections import Counter\n",
    "from openff.toolkit.topology import Molecule\n",
    "from openff.qcsubmit.results import BasicResultCollection\n",
    "from simtk import unit\n",
    "from simtk.unit import Quantity\n",
    "from matplotlib import pyplot as plt"
   ]
  },
  {
   "cell_type": "code",
   "execution_count": 2,
   "id": "46555951-b42b-4d63-8cce-a25f8166b7b9",
   "metadata": {},
   "outputs": [],
   "source": [
    "client = ptl.FractalClient()"
   ]
  },
  {
   "cell_type": "code",
   "execution_count": 3,
   "id": "c584276c-9b1d-4e6f-afb2-8f7dcce08c0f",
   "metadata": {},
   "outputs": [
    {
     "data": {
      "text/html": [
       "<div>\n",
       "<style scoped>\n",
       "    .dataframe tbody tr th:only-of-type {\n",
       "        vertical-align: middle;\n",
       "    }\n",
       "\n",
       "    .dataframe tbody tr th {\n",
       "        vertical-align: top;\n",
       "    }\n",
       "\n",
       "    .dataframe thead th {\n",
       "        text-align: right;\n",
       "    }\n",
       "</style>\n",
       "<table border=\"1\" class=\"dataframe\">\n",
       "  <thead>\n",
       "    <tr style=\"text-align: right;\">\n",
       "      <th></th>\n",
       "      <th></th>\n",
       "      <th>tagline</th>\n",
       "    </tr>\n",
       "    <tr>\n",
       "      <th>collection</th>\n",
       "      <th>name</th>\n",
       "      <th></th>\n",
       "    </tr>\n",
       "  </thead>\n",
       "  <tbody>\n",
       "    <tr>\n",
       "      <th rowspan=\"5\" valign=\"top\">Dataset</th>\n",
       "      <th>A Benchmark Data Set for Hydrogen Combustion</th>\n",
       "      <td>A Benchmark Data Set for Hydrogen Combustion</td>\n",
       "    </tr>\n",
       "    <tr>\n",
       "      <th>ANI-1</th>\n",
       "      <td>22 million off-equilibrium conformations and e...</td>\n",
       "    </tr>\n",
       "    <tr>\n",
       "      <th>ANI-1ccx</th>\n",
       "      <td>Coupled cluster properties for molecules</td>\n",
       "    </tr>\n",
       "    <tr>\n",
       "      <th>ANI-1x</th>\n",
       "      <td>Density functional theory properties for molec...</td>\n",
       "    </tr>\n",
       "    <tr>\n",
       "      <th>COMP6 ANI-MD</th>\n",
       "      <td>Benchmark containing MD trajectories from the ...</td>\n",
       "    </tr>\n",
       "    <tr>\n",
       "      <th>...</th>\n",
       "      <th>...</th>\n",
       "      <td>...</td>\n",
       "    </tr>\n",
       "    <tr>\n",
       "      <th rowspan=\"5\" valign=\"top\">TorsionDriveDataset</th>\n",
       "      <th>OpenFF-benchmark-ligand-fragments-v2.0</th>\n",
       "      <td>Ligand fragments from the JACS benchmark systems.</td>\n",
       "    </tr>\n",
       "    <tr>\n",
       "      <th>Pfizer Discrepancy Torsion Dataset 1</th>\n",
       "      <td>None</td>\n",
       "    </tr>\n",
       "    <tr>\n",
       "      <th>SMIRNOFF Coverage Torsion Set 1</th>\n",
       "      <td>None</td>\n",
       "    </tr>\n",
       "    <tr>\n",
       "      <th>SiliconTX Torsion Benchmark Set 1</th>\n",
       "      <td>None</td>\n",
       "    </tr>\n",
       "    <tr>\n",
       "      <th>TorsionDrive Paper</th>\n",
       "      <td>None</td>\n",
       "    </tr>\n",
       "  </tbody>\n",
       "</table>\n",
       "<p>204 rows × 1 columns</p>\n",
       "</div>"
      ],
      "text/plain": [
       "                                                                                                            tagline\n",
       "collection          name                                                                                           \n",
       "Dataset             A Benchmark Data Set for Hydrogen Combustion       A Benchmark Data Set for Hydrogen Combustion\n",
       "                    ANI-1                                         22 million off-equilibrium conformations and e...\n",
       "                    ANI-1ccx                                               Coupled cluster properties for molecules\n",
       "                    ANI-1x                                        Density functional theory properties for molec...\n",
       "                    COMP6 ANI-MD                                  Benchmark containing MD trajectories from the ...\n",
       "...                                                                                                             ...\n",
       "TorsionDriveDataset OpenFF-benchmark-ligand-fragments-v2.0        Ligand fragments from the JACS benchmark systems.\n",
       "                    Pfizer Discrepancy Torsion Dataset 1                                                       None\n",
       "                    SMIRNOFF Coverage Torsion Set 1                                                            None\n",
       "                    SiliconTX Torsion Benchmark Set 1                                                          None\n",
       "                    TorsionDrive Paper                                                                         None\n",
       "\n",
       "[204 rows x 1 columns]"
      ]
     },
     "execution_count": 3,
     "metadata": {},
     "output_type": "execute_result"
    }
   ],
   "source": [
    "client.list_collections()"
   ]
  },
  {
   "cell_type": "code",
   "execution_count": 4,
   "id": "3b618703-f1a0-42bb-8c6e-1bb29706d53e",
   "metadata": {},
   "outputs": [
    {
     "data": {
      "text/html": [
       "<div>\n",
       "<style scoped>\n",
       "    .dataframe tbody tr th:only-of-type {\n",
       "        vertical-align: middle;\n",
       "    }\n",
       "\n",
       "    .dataframe tbody tr th {\n",
       "        vertical-align: top;\n",
       "    }\n",
       "\n",
       "    .dataframe thead th {\n",
       "        text-align: right;\n",
       "    }\n",
       "</style>\n",
       "<table border=\"1\" class=\"dataframe\">\n",
       "  <thead>\n",
       "    <tr style=\"text-align: right;\">\n",
       "      <th></th>\n",
       "      <th></th>\n",
       "      <th>tagline</th>\n",
       "    </tr>\n",
       "    <tr>\n",
       "      <th>collection</th>\n",
       "      <th>name</th>\n",
       "      <th></th>\n",
       "    </tr>\n",
       "  </thead>\n",
       "  <tbody>\n",
       "    <tr>\n",
       "      <th rowspan=\"5\" valign=\"top\">Dataset</th>\n",
       "      <th>A Benchmark Data Set for Hydrogen Combustion</th>\n",
       "      <td>A Benchmark Data Set for Hydrogen Combustion</td>\n",
       "    </tr>\n",
       "    <tr>\n",
       "      <th>ANI-1</th>\n",
       "      <td>22 million off-equilibrium conformations and e...</td>\n",
       "    </tr>\n",
       "    <tr>\n",
       "      <th>ANI-1ccx</th>\n",
       "      <td>Coupled cluster properties for molecules</td>\n",
       "    </tr>\n",
       "    <tr>\n",
       "      <th>ANI-1x</th>\n",
       "      <td>Density functional theory properties for molec...</td>\n",
       "    </tr>\n",
       "    <tr>\n",
       "      <th>COMP6 ANI-MD</th>\n",
       "      <td>Benchmark containing MD trajectories from the ...</td>\n",
       "    </tr>\n",
       "  </tbody>\n",
       "</table>\n",
       "</div>"
      ],
      "text/plain": [
       "                                                                                                   tagline\n",
       "collection name                                                                                           \n",
       "Dataset    A Benchmark Data Set for Hydrogen Combustion       A Benchmark Data Set for Hydrogen Combustion\n",
       "           ANI-1                                         22 million off-equilibrium conformations and e...\n",
       "           ANI-1ccx                                               Coupled cluster properties for molecules\n",
       "           ANI-1x                                        Density functional theory properties for molec...\n",
       "           COMP6 ANI-MD                                  Benchmark containing MD trajectories from the ..."
      ]
     },
     "execution_count": 4,
     "metadata": {},
     "output_type": "execute_result"
    }
   ],
   "source": [
    "client.list_collections(\"Dataset\").head()"
   ]
  },
  {
   "cell_type": "code",
   "execution_count": 5,
   "id": "cb97db25-f8a5-4ce0-af40-5820cec89344",
   "metadata": {},
   "outputs": [],
   "source": [
    "df = client.list_collections()"
   ]
  },
  {
   "cell_type": "code",
   "execution_count": 6,
   "id": "db4c3719-465f-49cb-9ede-bcbef3e06e1d",
   "metadata": {
    "scrolled": true,
    "tags": []
   },
   "outputs": [
    {
     "name": "stdout",
     "output_type": "stream",
     "text": [
      "0 ('Dataset', 'A Benchmark Data Set for Hydrogen Combustion') A Benchmark Data Set for Hydrogen Combustion\n",
      "1 ('Dataset', 'ANI-1') 22 million off-equilibrium conformations and enegies for organic molecules\n",
      "2 ('Dataset', 'ANI-1ccx') Coupled cluster properties for molecules\n",
      "3 ('Dataset', 'ANI-1x') Density functional theory properties for molecules\n",
      "4 ('Dataset', 'COMP6 ANI-MD') Benchmark containing MD trajectories from the ANI-1x potential.\n",
      "5 ('Dataset', 'COMP6 DrugBank') Benchmark containing DrugBank off-equilibrium molecules.\n",
      "6 ('Dataset', 'COMP6 GDB10to13') Benchmark containing off-equilibrium molecules from GDB13 with 10 to 13 heavy atoms.\n",
      "7 ('Dataset', 'COMP6 GDB7to9') Benchmark containing off-equilibrium molecules from GDB11 with 7 to 9 heavy atoms.\n",
      "8 ('Dataset', 'COMP6 S66x8') Benchmark for noncovalent interactions.\n",
      "9 ('Dataset', 'COMP6 Tripeptides') Benchmark containing off-equilibrium geometries of 248 tripeptides.\n",
      "10 ('Dataset', 'G-SchNet Generated') Molecules generated by G-SchNet, trained on QM9.\n",
      "11 ('Dataset', 'GDB13-T') Small organic molecules with up to 13 heavy atoms thermalized at 350K.\n",
      "12 ('Dataset', 'GDML') Molecular dynamics trajectories of small molecules\n",
      "13 ('Dataset', 'ISO-17') Molecular dynamics trajectories of isomers of C7O2H10\n",
      "14 ('Dataset', 'OpenFF BCC Refit Study COH v1.0') C,H,O single point training data for BCC refits.\n",
      "15 ('Dataset', 'OpenFF Discrepancy Benchmark 1') None\n",
      "16 ('Dataset', 'OpenFF ESP Fragment Conformers v1.0') HF/6-31G* conformers of diverse fragments.\n",
      "17 ('Dataset', 'OpenFF ESP Industry Benchmark Set v1.1') HF/6-31G* conformers of public industry benchmark molecules.\n",
      "18 ('Dataset', 'OpenFF Gen 2 Opt Set 1 Roche') None\n",
      "19 ('Dataset', 'OpenFF Gen 2 Opt Set 2 Coverage') None\n",
      "20 ('Dataset', 'OpenFF Gen 2 Opt Set 3 Pfizer Discrepancy') None\n",
      "21 ('Dataset', 'OpenFF Gen 2 Opt Set 4 eMolecules Discrepancy') None\n",
      "22 ('Dataset', 'OpenFF Gen 2 Opt Set 5 Bayer') None\n",
      "23 ('Dataset', 'OpenFF NCI250K Boron 1') None\n",
      "24 ('Dataset', 'OpenFF Optimization Set 1') None\n",
      "25 ('Dataset', 'OpenFF Theory Benchmarking Single Point Energies v1.0') Single point energies at final geometries of torsiondrives calculated at reference spec MP2/heavy-aug-cc-pVTZ\n",
      "26 ('Dataset', 'OpenFF VEHICLe Set 1') None\n",
      "27 ('Dataset', 'PC9') A diverse subset of PubChemQC containing up to 9 heavy atoms.\n",
      "28 ('Dataset', 'PC9 (netural singlet subset)') DELETE ME\n",
      "29 ('Dataset', 'PC9 (neutral singlet subset)') A subset of PC9 contaning only neutral singlets.\n",
      "30 ('Dataset', 'QM7') Small organic molecules with up to 7 heavy atoms.\n",
      "31 ('Dataset', 'QM7b') Small organic molecules with up to 7 heavy atoms with excited state properties.\n",
      "32 ('Dataset', 'QM7b-T') Small organic molecules with up to 7 heavy atoms thermalized at 350K.\n",
      "33 ('Dataset', 'QM9') Small organic molecules with up to 9 heavy atoms with electronic and thermodynamic properties.\n",
      "34 ('Dataset', 'RNA Single Point Dataset v1.0') QM dataset for ML\n",
      "35 ('Dataset', 'SMIRNOFF Coverage Set 1') None\n",
      "36 ('Dataset', 'SN2 Reactions') Chemical reactions of methyl halides with halide anions\n",
      "37 ('Dataset', 'SPICE DES Monomers Single Points Dataset v1.0') QM dataset for ML\n",
      "38 ('Dataset', 'SPICE DES Monomers Single Points Dataset v1.1') QM dataset for ML\n",
      "39 ('Dataset', 'SPICE DES370K Single Points Dataset Supplement v1.0') QM dataset for ML\n",
      "40 ('Dataset', 'SPICE DES370K Single Points Dataset v1.0') QM dataset for ML\n",
      "41 ('Dataset', 'SPICE Dipeptides Single Points Dataset v1.0') QM Dataset for ML\n",
      "42 ('Dataset', 'SPICE Dipeptides Single Points Dataset v1.1') QM Dataset for ML\n",
      "43 ('Dataset', 'SPICE Dipeptides Single Points Dataset v1.2') QM Dataset for ML\n",
      "44 ('Dataset', 'SPICE Ion Pairs Single Points Dataset v1.0') QM dataset for ML\n",
      "45 ('Dataset', 'SPICE Ion Pairs Single Points Dataset v1.1') QM dataset for ML\n",
      "46 ('Dataset', 'SPICE PubChem Set 1 Single Points Dataset v1.0') QM dataset for ML\n",
      "47 ('Dataset', 'SPICE PubChem Set 1 Single Points Dataset v1.1') QM dataset for ML\n",
      "48 ('Dataset', 'SPICE PubChem Set 1 Single Points Dataset v1.2') QM dataset for ML\n",
      "49 ('Dataset', 'SPICE PubChem Set 2 Single Points Dataset v1.0') QM dataset for ML\n",
      "50 ('Dataset', 'SPICE PubChem Set 2 Single Points Dataset v1.2') QM dataset for ML\n",
      "51 ('Dataset', 'SPICE PubChem Set 3 Single Points Dataset v1.0') QM dataset for ML\n",
      "52 ('Dataset', 'SPICE PubChem Set 3 Single Points Dataset v1.2') QM dataset for ML\n",
      "53 ('Dataset', 'SPICE PubChem Set 5 Single Points Dataset v1.0') QM dataset for ML\n",
      "54 ('Dataset', 'SPICE PubChem Set 5 Single Points Dataset v1.2') QM dataset for ML\n",
      "55 ('Dataset', 'SPICE PubChem Set 6 Single Points Dataset v1.0') QM dataset for ML\n",
      "56 ('Dataset', 'SPICE PubChem Set 6 Single Points Dataset v1.2') QM dataset for ML\n",
      "57 ('Dataset', 'SPICE Pubchem Set 4 Single Points Dataset v1.0') QM dataset for ML\n",
      "58 ('Dataset', 'SPICE Pubchem Set 4 Single Points Dataset v1.2') QM dataset for ML\n",
      "59 ('Dataset', 'SPICE Solvated Amino Acids Single Points Dataset v1.0') QM dataset for ML\n",
      "60 ('Dataset', 'SPICE Solvated Amino Acids Single Points Dataset v1.1') QM dataset for ML\n",
      "61 ('Dataset', 'Solvated Protein Fragments') Amons derived from proteins, in water.\n",
      "62 ('Dataset', 'StockholderMultipoles') None\n",
      "63 ('Dataset', 'TensorMol Water Clusters') Clusters of 1 to 21 water molecules, sampled with metadynamics.\n",
      "64 ('Dataset', 'TorsionNet500 Single Points Dataset v1.0') TorsionNet500 geometries with openff default spec\n",
      "65 ('GridOptimizationDataset', 'OpenFF Trivalent Nitrogen Set 1') None\n",
      "66 ('GridOptimizationDataset', 'OpenFF Trivalent Nitrogen Set 1 (deprecated)') None\n",
      "67 ('GridOptimizationDataset', 'OpenFF Trivalent Nitrogen Set 2') None\n",
      "68 ('GridOptimizationDataset', 'OpenFF Trivalent Nitrogen Set 3') None\n",
      "69 ('OptimizationDataset', 'FDA Optimization Dataset 1') None\n",
      "70 ('OptimizationDataset', 'Genentech PDB Ligand Expo fragment optimization neutral v1.0') Optimization set\n",
      "71 ('OptimizationDataset', 'Genentech PDB Ligand Expo whole optimization neutral v1.0') Optimization set\n",
      "72 ('OptimizationDataset', 'JGI Metabolite Set 1') None\n",
      "73 ('OptimizationDataset', 'Kinase Inhibitors: WBO Distributions') None\n",
      "74 ('OptimizationDataset', 'OpenFF Aniline Para Opt v1.0') Optimizations of diverse, para-substituted aniline derivatives.\n",
      "75 ('OptimizationDataset', 'OpenFF BCC Refit Study COH v2.0') Optimizations of diverse, para-substituted aniline derivatives.\n",
      "76 ('OptimizationDataset', 'OpenFF Discrepancy Benchmark 1') None\n",
      "77 ('OptimizationDataset', 'OpenFF ESP Industry Benchmark Set v1.0') HF/6-31G* conformers of public industry benchmark molecules.\n",
      "78 ('OptimizationDataset', 'OpenFF Ehrman Informative Optimization v0.1') None\n",
      "79 ('OptimizationDataset', 'OpenFF Ehrman Informative Optimization v0.2') None\n",
      "80 ('OptimizationDataset', 'OpenFF Full Optimization Benchmark 1') None\n",
      "81 ('OptimizationDataset', 'OpenFF Gen 2 Opt Set 1 Roche') None\n",
      "82 ('OptimizationDataset', 'OpenFF Gen 2 Opt Set 2 Coverage') None\n",
      "83 ('OptimizationDataset', 'OpenFF Gen 2 Opt Set 3 Pfizer Discrepancy') None\n",
      "84 ('OptimizationDataset', 'OpenFF Gen 2 Opt Set 4 eMolecules Discrepancy') None\n",
      "85 ('OptimizationDataset', 'OpenFF Gen 2 Opt Set 5 Bayer') None\n",
      "86 ('OptimizationDataset', 'OpenFF Gen2 Optimization Dataset Protomers v1.0') Reasonable protomers enumerated\n",
      "87 ('OptimizationDataset', 'OpenFF Industry Benchmark Season 1 - MM v1.1') OpenForcefield optimizations.\n",
      "88 ('OptimizationDataset', 'OpenFF Industry Benchmark Season 1 v1.0') The public molecules from the OpenFF Industry Benchmark.\n",
      "89 ('OptimizationDataset', 'OpenFF Industry Benchmark Season 1 v1.1') The public molecules from the OpenFF Industry Benchmark.\n",
      "90 ('OptimizationDataset', 'OpenFF Iodine Chemistry Optimization Dataset v1.0') Optimization set created from Gen1, Gen2, and other dataset molecules containing iodine\n",
      "91 ('OptimizationDataset', 'OpenFF NCI250K Boron 1') None\n",
      "92 ('OptimizationDataset', 'OpenFF Optimization Set 1') None\n",
      "93 ('OptimizationDataset', 'OpenFF PEPCONF OptimizationDataset v1.0') OptimizationDataset of short peptides in various contexts, including disulfide bridges.\n",
      "94 ('OptimizationDataset', 'OpenFF Primary Optimization Benchmark 1') None\n",
      "95 ('OptimizationDataset', 'OpenFF Protein Capped 1-mers 3-mers Optimization Dataset v1.0') Optimization dataset for protein capped 1-mers and 3-mers\n",
      "96 ('OptimizationDataset', 'OpenFF Protein Fragments v1.0') Constrained optimization of various protein fragments.\n",
      "97 ('OptimizationDataset', 'OpenFF Protein Fragments v2.0') Constrained optimization of various protein fragments.\n",
      "98 ('OptimizationDataset', 'OpenFF Protein Peptide Fragments constrained v1.0') Constrained optimization of various protein peptide fragments.\n",
      "99 ('OptimizationDataset', 'OpenFF Protein Peptide Fragments unconstrained v1.0') Unconstrained optimization of various protein fragments.\n",
      "100 ('OptimizationDataset', 'OpenFF RESP Polarizability Optimizations v1.0') Optimizations of ESP-fitting based direct polarizabilities.\n",
      "101 ('OptimizationDataset', 'OpenFF RESP Polarizability Optimizations v1.1') Optimizations of ESP-fitting based direct polarizabilities.\n",
      "102 ('OptimizationDataset', 'OpenFF Roche Opt Set With Protomers and Tautomers v1.0') Optimization set with protomers and tautomers\n",
      "103 ('OptimizationDataset', 'OpenFF Roche Opt Set With Protomers and Tautomers v1.1') Optimization set with protomers and tautomers\n",
      "104 ('OptimizationDataset', 'OpenFF Sandbox CHO PhAlkEthOH v1.0') A diverse set of small CHO molecules\n",
      "105 ('OptimizationDataset', 'OpenFF Theory Benchmarking Constrained Optimization Set B3LYP-NL def2-TZVPD v1.0') Optimized geometries for benchmaking b3lyp-nl/def2-TZVPD\n",
      "106 ('OptimizationDataset', 'OpenFF Theory Benchmarking Constrained Optimization Set MP2 heavy-aug-cc-pVTZ v1.0') Optimized geometries for benchmaking MP2/heavy-aug-cc-pVTZ\n",
      "107 ('OptimizationDataset', 'OpenFF Theory Benchmarking Constrained Optimization Set MP2 heavy-aug-cc-pVTZ v1.1') Optimized geometries for benchmaking MP2/heavy-aug-cc-pVTZ\n",
      "108 ('OptimizationDataset', 'OpenFF Theory Benchmarking Constrained Optimization Set WB97X-V def2-TZVPD v1.0') Optimized geometries for benchmaking wb97x-v/def2-TZVPD\n",
      "109 ('OptimizationDataset', 'OpenFF VEHICLe Set 1') None\n",
      "110 ('OptimizationDataset', 'OpenFF multiplicity correction optimization set v1.0') QM Dataset for fitting multiplicity corrected torsions\n",
      "111 ('OptimizationDataset', 'PEI') None\n",
      "112 ('OptimizationDataset', 'Pfizer Discrepancy Optimization Dataset 1') None\n",
      "113 ('OptimizationDataset', 'QM8-T') None\n",
      "114 ('OptimizationDataset', 'SMIRNOFF Coverage Set 1') None\n",
      "115 ('OptimizationDataset', 'SPICE Dipeptides Optimization Dataset v1.0') QM Dataset for ML\n",
      "116 ('ReactionDataset', 'A21') Equilibrium complexes from A24 database of small bimolecular complexes\n",
      "117 ('ReactionDataset', 'A24') Interaction energies for small bimolecular complexes\n",
      "118 ('ReactionDataset', 'ACONF') Conformation energies for alkanes\n",
      "119 ('ReactionDataset', 'ASCDB') A statistically significant database generated from MGCDB84, GMTKN55, and Minnesota 2015B.\n",
      "120 ('ReactionDataset', 'AlkBind12') Binding energies of saturated and unsaturated hydrocarbon dimers\n",
      "121 ('ReactionDataset', 'AlkIsod14') Isodesmic reaction energies for alkanes N=3--8\n",
      "122 ('ReactionDataset', 'AlkIsomer11') Isomerization energies of alkanes N=4--8\n",
      "123 ('ReactionDataset', 'BH76RC') Reaction energies from hydrogen and non-hydrogen tranfser reactions\n",
      "124 ('ReactionDataset', 'BHPERI26') Barrier heights of pericyclic reactions\n",
      "125 ('ReactionDataset', 'BSR36') Hydrocarbon bond-separation reaction energies\n",
      "126 ('ReactionDataset', 'Bauza30') Binding energies of halogen, chalcogen, and pnicogen bonded dimers\n",
      "127 ('ReactionDataset', 'Butanediol65') Isomerization energies for butanediol\n",
      "128 ('ReactionDataset', 'C20C24') Isomerization energies of the ground-state structures of C20 and C24\n",
      "129 ('ReactionDataset', 'CYCONF') Conformation energies for cysteine\n",
      "130 ('ReactionDataset', 'DBH24') Diverse barrier heights\n",
      "131 ('ReactionDataset', 'DIE60') Isomerization energies of reactions involving double-bond migration in conjugated dienes\n",
      "132 ('ReactionDataset', 'DS14') Binding energies of complexes containing divalent sulfur\n",
      "133 ('ReactionDataset', 'FmH2O10') Binding energies of isomers of F-(H20)10 complexes\n",
      "134 ('ReactionDataset', 'G21EA') Adiabatic electron affinities of atoms and small molecules\n",
      "135 ('ReactionDataset', 'H2O16Rel5') Isomerization energies of (H2O)16 boat and fused-cube structures\n",
      "136 ('ReactionDataset', 'H2O17Rel4') Isomerization energies of (H2O)17 complexes\n",
      "137 ('ReactionDataset', 'HB15') Binding energies of hydrogen bonded dimers featuring ionic groups common in biomolecules\n",
      "138 ('ReactionDataset', 'HNBrBDE18') Homolytic N--Br bond dissociation energies\n",
      "139 ('ReactionDataset', 'HSG') Interaction energies for bimolecular complexes from protein-indinavir reaction site 1HSG\n",
      "140 ('ReactionDataset', 'HTBH38') Hydrogen transfer barrier heights\n",
      "141 ('ReactionDataset', 'MPCONF196') Conformation energies of acyclic and cyclic model peptides and several other macrocycles\n",
      "142 ('ReactionDataset', 'NC15') Binding energies of very small noncovalent complexes\n",
      "143 ('ReactionDataset', 'NHTBH38') Non-hydrogen transfer barrier heights\n",
      "144 ('ReactionDataset', 'S22') Interaction energies for common organic bimolecular complexes\n",
      "145 ('ReactionDataset', 'S66') Interaction energies for organic bimolecular complexes\n",
      "146 ('ReactionDataset', 'SSI') Interaction energies for peptide sidechain-sidechain complexes\n",
      "147 ('ReactionDataset', 'X40') Binding energies of noncovalent interactions involving halogenated molecules\n",
      "148 ('ReactionDataset', 'YMPJ16') None\n",
      "149 ('TorsionDriveDataset', 'Fragment Stability Benchmark') None\n",
      "150 ('TorsionDriveDataset', 'Fragmenter paper') None\n",
      "151 ('TorsionDriveDataset', 'OpenFF Amide Torsion Set v1.0') Amides, thioamides and amidines diversely functionalized.\n",
      "152 ('TorsionDriveDataset', 'OpenFF Aniline 2D Impropers v1.0') Substituted aniline derivatives with various electron withdrawing and donating groups\n",
      "153 ('TorsionDriveDataset', 'OpenFF DANCE 1 eMolecules t142 v1.0') None\n",
      "154 ('TorsionDriveDataset', 'OpenFF Fragmenter Validation 1.0') None\n",
      "155 ('TorsionDriveDataset', 'OpenFF Full TorsionDrive Benchmark 1') None\n",
      "156 ('TorsionDriveDataset', 'OpenFF Gen 2 Torsion Set 1 Roche') None\n",
      "157 ('TorsionDriveDataset', 'OpenFF Gen 2 Torsion Set 1 Roche 2') None\n",
      "158 ('TorsionDriveDataset', 'OpenFF Gen 2 Torsion Set 2 Coverage') None\n",
      "159 ('TorsionDriveDataset', 'OpenFF Gen 2 Torsion Set 2 Coverage 2') None\n",
      "160 ('TorsionDriveDataset', 'OpenFF Gen 2 Torsion Set 3 Pfizer Discrepancy') None\n",
      "161 ('TorsionDriveDataset', 'OpenFF Gen 2 Torsion Set 3 Pfizer Discrepancy 2') None\n",
      "162 ('TorsionDriveDataset', 'OpenFF Gen 2 Torsion Set 4 eMolecules Discrepancy') None\n",
      "163 ('TorsionDriveDataset', 'OpenFF Gen 2 Torsion Set 4 eMolecules Discrepancy 2') None\n",
      "164 ('TorsionDriveDataset', 'OpenFF Gen 2 Torsion Set 5 Bayer') None\n",
      "165 ('TorsionDriveDataset', 'OpenFF Gen 2 Torsion Set 5 Bayer 2') None\n",
      "166 ('TorsionDriveDataset', 'OpenFF Gen 2 Torsion Set 6 Supplemental') None\n",
      "167 ('TorsionDriveDataset', 'OpenFF Gen 2 Torsion Set 6 Supplemental 2') None\n",
      "168 ('TorsionDriveDataset', 'OpenFF Gen3 Torsion Set v1.0') OpenFF Gen3 Torsion Set v1.0\n",
      "169 ('TorsionDriveDataset', 'OpenFF Group1 Torsions') None\n",
      "170 ('TorsionDriveDataset', 'OpenFF Group1 Torsions 2') None\n",
      "171 ('TorsionDriveDataset', 'OpenFF Group1 Torsions 3') None\n",
      "172 ('TorsionDriveDataset', 'OpenFF Primary Benchmark 1 Torsion Set') None\n",
      "173 ('TorsionDriveDataset', 'OpenFF Primary Benchmark 2 Torsion Set') None\n",
      "174 ('TorsionDriveDataset', 'OpenFF Primary TorsionDrive Benchmark 1') None\n",
      "175 ('TorsionDriveDataset', 'OpenFF Protein Capped 1-mer Sidechains v1.0') Capped 1-mer TorsionDrives on up to two sidechain dihedrals\n",
      "176 ('TorsionDriveDataset', 'OpenFF Protein Capped 1-mer Sidechains v1.1') Capped 1-mer TorsionDrives on up to two sidechain dihedrals\n",
      "177 ('TorsionDriveDataset', 'OpenFF Protein Capped 1-mer Sidechains v1.2') Capped 1-mer TorsionDrives on up to two sidechain dihedrals\n",
      "178 ('TorsionDriveDataset', 'OpenFF Protein Capped 1-mer Sidechains v1.3') Capped 1-mer TorsionDrives on up to two sidechain dihedrals\n",
      "179 ('TorsionDriveDataset', 'OpenFF Protein Capped 3-mer Backbones v1.0') Capped 3-mer 2-D TorsionDrives on backbone dihedrals for central residue\n",
      "180 ('TorsionDriveDataset', 'OpenFF Protein Dipeptide 2-D TorsionDrive v1.0') Dipeptide 2-D TorsionDrives on phi and psi\n",
      "181 ('TorsionDriveDataset', 'OpenFF Protein Dipeptide 2-D TorsionDrive v1.1') Dipeptide 2-D TorsionDrives on phi and psi\n",
      "182 ('TorsionDriveDataset', 'OpenFF Protein Dipeptide 2-D TorsionDrive v2.0') Dipeptide 2-D TorsionDrives on phi and psi\n",
      "183 ('TorsionDriveDataset', 'OpenFF Protein Dipeptide 2-D TorsionDrive v2.1') Dipeptide 2-D TorsionDrives on phi and psi\n",
      "184 ('TorsionDriveDataset', 'OpenFF Protein Fragments TorsionDrives v1.0') Torsiondrives for selected dihedrals of various protein fragments\n",
      "185 ('TorsionDriveDataset', 'OpenFF Rowley Biaryl v1.0') Torsiondrives of biaryl molecules.\n",
      "186 ('TorsionDriveDataset', 'OpenFF Substituted Phenyl Set 1') None\n",
      "187 ('TorsionDriveDataset', 'OpenFF Substituted Phenyl Set 1 v2.0') Torsiondrives for selected dihedrals of various phenyl fragments\n",
      "188 ('TorsionDriveDataset', 'OpenFF Theory Benchmarking Set B3LYP-D3BJ 6-31+Gss') Torsiondrives for benchmarking B3LYP-D3BJ/6-31+G**\n",
      "189 ('TorsionDriveDataset', 'OpenFF Theory Benchmarking Set B3LYP-D3BJ DZVP v1.0') Torsiondrives for benchmarking B3LYP-D3BJ/DZVP\n",
      "190 ('TorsionDriveDataset', 'OpenFF Theory Benchmarking Set B3LYP-D3BJ def2-TZVP v1.0') Torsiondrives for benchmarking B3LYP-D3BJ/def2-TZVP\n",
      "191 ('TorsionDriveDataset', 'OpenFF Theory Benchmarking Set B3LYP-D3BJ def2-TZVPD v1.0') Torsiondrives for benchmarking B3LYP-D3BJ/def2-TZVPD\n",
      "192 ('TorsionDriveDataset', 'OpenFF Theory Benchmarking Set B3LYP-D3BJ def2-TZVPP v1.0') Torsiondrives for benchmarking B3LYP-D3BJ/def2-TZVPP\n",
      "193 ('TorsionDriveDataset', 'OpenFF Theory Benchmarking Set B3LYP-D3BJ def2-TZVPPD') Torsiondrives for benchmarking B3LYP-D3BJ/def2-TZVPPD\n",
      "194 ('TorsionDriveDataset', 'OpenFF Theory Benchmarking Set v1.0') Torsiondrives for theory benchmarking\n",
      "195 ('TorsionDriveDataset', 'OpenFF WBO Conjugated Series v1.0') A functional series of molecules with varying conjugation\n",
      "196 ('TorsionDriveDataset', 'OpenFF multiplicity correction torsion drive data v1.0') OpenFF multiplicity correction torsion drive data v1.0\n",
      "197 ('TorsionDriveDataset', 'OpenFF multiplicity correction torsion drive data v1.1') OpenFF multiplicity correction torsion drive data v1.1\n",
      "198 ('TorsionDriveDataset', 'OpenFF-benchmark-ligand-fragments-v1.0') Fragmented torsiondrives of JACS benchmark inhibitors.\n",
      "199 ('TorsionDriveDataset', 'OpenFF-benchmark-ligand-fragments-v2.0') Ligand fragments from the JACS benchmark systems.\n",
      "200 ('TorsionDriveDataset', 'Pfizer Discrepancy Torsion Dataset 1') None\n",
      "201 ('TorsionDriveDataset', 'SMIRNOFF Coverage Torsion Set 1') None\n",
      "202 ('TorsionDriveDataset', 'SiliconTX Torsion Benchmark Set 1') None\n",
      "203 ('TorsionDriveDataset', 'TorsionDrive Paper') None\n"
     ]
    }
   ],
   "source": [
    "for i, r in enumerate(df.iterrows()):\n",
    "    #print(\"{}:\\t{}\\t{}\".format(r[0][0], r[0][1], r[1]))\n",
    "    print(i, r[0], r[1][0])"
   ]
  },
  {
   "cell_type": "markdown",
   "id": "cf89b3c8-5686-4a96-a815-da63630490d1",
   "metadata": {},
   "source": [
    "### openff full optimization benchmark1"
   ]
  },
  {
   "cell_type": "code",
   "execution_count": 41,
   "id": "9981836c-ac2a-4cf9-969f-4404f2a58769",
   "metadata": {},
   "outputs": [],
   "source": [
    "openff_full_opt_benchmark1 = client.get_collection('OptimizationDataset', 'OpenFF Full Optimization Benchmark 1')"
   ]
  },
  {
   "cell_type": "code",
   "execution_count": 42,
   "id": "083e0c2c-57ed-436f-ab0e-4aca083c483f",
   "metadata": {},
   "outputs": [
    {
     "data": {
      "text/html": [
       "<div>\n",
       "<style scoped>\n",
       "    .dataframe tbody tr th:only-of-type {\n",
       "        vertical-align: middle;\n",
       "    }\n",
       "\n",
       "    .dataframe tbody tr th {\n",
       "        vertical-align: top;\n",
       "    }\n",
       "\n",
       "    .dataframe thead th {\n",
       "        text-align: right;\n",
       "    }\n",
       "</style>\n",
       "<table border=\"1\" class=\"dataframe\">\n",
       "  <thead>\n",
       "    <tr style=\"text-align: right;\">\n",
       "      <th></th>\n",
       "      <th>Description</th>\n",
       "    </tr>\n",
       "    <tr>\n",
       "      <th>Name</th>\n",
       "      <th></th>\n",
       "    </tr>\n",
       "  </thead>\n",
       "  <tbody>\n",
       "    <tr>\n",
       "      <th>default</th>\n",
       "      <td>Standard OpenFF optimization quantum chemistry...</td>\n",
       "    </tr>\n",
       "  </tbody>\n",
       "</table>\n",
       "</div>"
      ],
      "text/plain": [
       "                                               Description\n",
       "Name                                                      \n",
       "default  Standard OpenFF optimization quantum chemistry..."
      ]
     },
     "execution_count": 42,
     "metadata": {},
     "output_type": "execute_result"
    }
   ],
   "source": [
    "openff_full_opt_benchmark1.list_specifications()"
   ]
  },
  {
   "cell_type": "code",
   "execution_count": 89,
   "id": "a88436e6-3fb1-4f21-9ec4-81ac1243f659",
   "metadata": {},
   "outputs": [
    {
     "data": {
      "text/plain": [
       "QCSpecification(driver=<DriverEnum.gradient: 'gradient'>, method='b3lyp-d3bj', basis='dzvp', keywords='2', protocols=ResultProtocols(wavefunction=<WavefunctionProtocolEnum.none: 'none'>, stdout=True, error_correction=ErrorCorrectionProtocol(default_policy=True, policies=None), native_files=<NativeFilesProtocolEnum.none: 'none'>), program='psi4')"
      ]
     },
     "execution_count": 89,
     "metadata": {},
     "output_type": "execute_result"
    }
   ],
   "source": [
    "openff_full_opt_benchmark1.get_specification(\"default\").qc_spec"
   ]
  },
  {
   "cell_type": "markdown",
   "id": "c3be519f-2f5f-49f1-96df-01c8b9339278",
   "metadata": {},
   "source": [
    "### openff gen2 opt set"
   ]
  },
  {
   "cell_type": "code",
   "execution_count": 44,
   "id": "9a7648ab-7307-43f0-918b-92ae5d707da2",
   "metadata": {},
   "outputs": [],
   "source": [
    "openff_gen2_optset1 = client.get_collection('Dataset', 'OpenFF Gen 2 Opt Set 1 Roche')\n",
    "openff_gen2_optset2 = client.get_collection('Dataset', 'OpenFF Gen 2 Opt Set 2 Coverage')\n",
    "openff_gen2_optset3 = client.get_collection('Dataset', 'OpenFF Gen 2 Opt Set 3 Pfizer Discrepancy')\n",
    "openff_gen2_optset4 = client.get_collection('Dataset', 'OpenFF Gen 2 Opt Set 4 eMolecules Discrepancy')\n",
    "openff_gen2_optset5 = client.get_collection('Dataset', 'OpenFF Gen 2 Opt Set 5 Bayer')"
   ]
  },
  {
   "cell_type": "code",
   "execution_count": 59,
   "id": "4cb96f40-36e1-4c25-882c-058e6022843d",
   "metadata": {},
   "outputs": [
    {
     "data": {
      "text/html": [
       "<div>\n",
       "<style scoped>\n",
       "    .dataframe tbody tr th:only-of-type {\n",
       "        vertical-align: middle;\n",
       "    }\n",
       "\n",
       "    .dataframe tbody tr th {\n",
       "        vertical-align: top;\n",
       "    }\n",
       "\n",
       "    .dataframe thead th {\n",
       "        text-align: right;\n",
       "    }\n",
       "</style>\n",
       "<table border=\"1\" class=\"dataframe\">\n",
       "  <thead>\n",
       "    <tr style=\"text-align: right;\">\n",
       "      <th></th>\n",
       "      <th>driver</th>\n",
       "      <th>program</th>\n",
       "      <th>method</th>\n",
       "      <th>basis</th>\n",
       "      <th>keywords</th>\n",
       "      <th>name</th>\n",
       "    </tr>\n",
       "  </thead>\n",
       "  <tbody>\n",
       "    <tr>\n",
       "      <th>0</th>\n",
       "      <td>hessian</td>\n",
       "      <td>psi4</td>\n",
       "      <td>b3lyp-d3bj</td>\n",
       "      <td>dzvp</td>\n",
       "      <td>default</td>\n",
       "      <td>B3LYP-D3BJ/dzvp</td>\n",
       "    </tr>\n",
       "  </tbody>\n",
       "</table>\n",
       "</div>"
      ],
      "text/plain": [
       "    driver program      method basis keywords             name\n",
       "0  hessian    psi4  b3lyp-d3bj  dzvp  default  B3LYP-D3BJ/dzvp"
      ]
     },
     "execution_count": 59,
     "metadata": {},
     "output_type": "execute_result"
    }
   ],
   "source": [
    "openff_gen2_optset1.list_records()"
   ]
  },
  {
   "cell_type": "code",
   "execution_count": 60,
   "id": "5e9c397c-6996-4a08-891f-51ca35fbf981",
   "metadata": {},
   "outputs": [
    {
     "data": {
      "text/html": [
       "<div>\n",
       "<style scoped>\n",
       "    .dataframe tbody tr th:only-of-type {\n",
       "        vertical-align: middle;\n",
       "    }\n",
       "\n",
       "    .dataframe tbody tr th {\n",
       "        vertical-align: top;\n",
       "    }\n",
       "\n",
       "    .dataframe thead th {\n",
       "        text-align: right;\n",
       "    }\n",
       "</style>\n",
       "<table border=\"1\" class=\"dataframe\">\n",
       "  <thead>\n",
       "    <tr style=\"text-align: right;\">\n",
       "      <th></th>\n",
       "      <th>driver</th>\n",
       "      <th>program</th>\n",
       "      <th>method</th>\n",
       "      <th>basis</th>\n",
       "      <th>keywords</th>\n",
       "      <th>name</th>\n",
       "    </tr>\n",
       "  </thead>\n",
       "  <tbody>\n",
       "    <tr>\n",
       "      <th>0</th>\n",
       "      <td>hessian</td>\n",
       "      <td>psi4</td>\n",
       "      <td>b3lyp-d3bj</td>\n",
       "      <td>dzvp</td>\n",
       "      <td>default</td>\n",
       "      <td>B3LYP-D3BJ/dzvp</td>\n",
       "    </tr>\n",
       "  </tbody>\n",
       "</table>\n",
       "</div>"
      ],
      "text/plain": [
       "    driver program      method basis keywords             name\n",
       "0  hessian    psi4  b3lyp-d3bj  dzvp  default  B3LYP-D3BJ/dzvp"
      ]
     },
     "execution_count": 60,
     "metadata": {},
     "output_type": "execute_result"
    }
   ],
   "source": [
    "openff_gen2_optset2.list_records()"
   ]
  },
  {
   "cell_type": "code",
   "execution_count": 61,
   "id": "5e8f11d2-0b17-4359-9b72-da6fb7fef2eb",
   "metadata": {},
   "outputs": [
    {
     "data": {
      "text/html": [
       "<div>\n",
       "<style scoped>\n",
       "    .dataframe tbody tr th:only-of-type {\n",
       "        vertical-align: middle;\n",
       "    }\n",
       "\n",
       "    .dataframe tbody tr th {\n",
       "        vertical-align: top;\n",
       "    }\n",
       "\n",
       "    .dataframe thead th {\n",
       "        text-align: right;\n",
       "    }\n",
       "</style>\n",
       "<table border=\"1\" class=\"dataframe\">\n",
       "  <thead>\n",
       "    <tr style=\"text-align: right;\">\n",
       "      <th></th>\n",
       "      <th>driver</th>\n",
       "      <th>program</th>\n",
       "      <th>method</th>\n",
       "      <th>basis</th>\n",
       "      <th>keywords</th>\n",
       "      <th>name</th>\n",
       "    </tr>\n",
       "  </thead>\n",
       "  <tbody>\n",
       "    <tr>\n",
       "      <th>0</th>\n",
       "      <td>hessian</td>\n",
       "      <td>psi4</td>\n",
       "      <td>b3lyp-d3bj</td>\n",
       "      <td>dzvp</td>\n",
       "      <td>default</td>\n",
       "      <td>B3LYP-D3BJ/dzvp</td>\n",
       "    </tr>\n",
       "  </tbody>\n",
       "</table>\n",
       "</div>"
      ],
      "text/plain": [
       "    driver program      method basis keywords             name\n",
       "0  hessian    psi4  b3lyp-d3bj  dzvp  default  B3LYP-D3BJ/dzvp"
      ]
     },
     "execution_count": 61,
     "metadata": {},
     "output_type": "execute_result"
    }
   ],
   "source": [
    "openff_gen2_optset3.list_records()"
   ]
  },
  {
   "cell_type": "code",
   "execution_count": 62,
   "id": "d2574682-8515-46ea-98ce-163bad5fbc16",
   "metadata": {},
   "outputs": [
    {
     "data": {
      "text/html": [
       "<div>\n",
       "<style scoped>\n",
       "    .dataframe tbody tr th:only-of-type {\n",
       "        vertical-align: middle;\n",
       "    }\n",
       "\n",
       "    .dataframe tbody tr th {\n",
       "        vertical-align: top;\n",
       "    }\n",
       "\n",
       "    .dataframe thead th {\n",
       "        text-align: right;\n",
       "    }\n",
       "</style>\n",
       "<table border=\"1\" class=\"dataframe\">\n",
       "  <thead>\n",
       "    <tr style=\"text-align: right;\">\n",
       "      <th></th>\n",
       "      <th>driver</th>\n",
       "      <th>program</th>\n",
       "      <th>method</th>\n",
       "      <th>basis</th>\n",
       "      <th>keywords</th>\n",
       "      <th>name</th>\n",
       "    </tr>\n",
       "  </thead>\n",
       "  <tbody>\n",
       "    <tr>\n",
       "      <th>0</th>\n",
       "      <td>hessian</td>\n",
       "      <td>psi4</td>\n",
       "      <td>b3lyp-d3bj</td>\n",
       "      <td>dzvp</td>\n",
       "      <td>default</td>\n",
       "      <td>B3LYP-D3BJ/dzvp</td>\n",
       "    </tr>\n",
       "  </tbody>\n",
       "</table>\n",
       "</div>"
      ],
      "text/plain": [
       "    driver program      method basis keywords             name\n",
       "0  hessian    psi4  b3lyp-d3bj  dzvp  default  B3LYP-D3BJ/dzvp"
      ]
     },
     "execution_count": 62,
     "metadata": {},
     "output_type": "execute_result"
    }
   ],
   "source": [
    "openff_gen2_optset4.list_records()"
   ]
  },
  {
   "cell_type": "code",
   "execution_count": 63,
   "id": "c455340f-ba07-46c4-a2b0-6a0971791a93",
   "metadata": {},
   "outputs": [
    {
     "data": {
      "text/html": [
       "<div>\n",
       "<style scoped>\n",
       "    .dataframe tbody tr th:only-of-type {\n",
       "        vertical-align: middle;\n",
       "    }\n",
       "\n",
       "    .dataframe tbody tr th {\n",
       "        vertical-align: top;\n",
       "    }\n",
       "\n",
       "    .dataframe thead th {\n",
       "        text-align: right;\n",
       "    }\n",
       "</style>\n",
       "<table border=\"1\" class=\"dataframe\">\n",
       "  <thead>\n",
       "    <tr style=\"text-align: right;\">\n",
       "      <th></th>\n",
       "      <th>driver</th>\n",
       "      <th>program</th>\n",
       "      <th>method</th>\n",
       "      <th>basis</th>\n",
       "      <th>keywords</th>\n",
       "      <th>name</th>\n",
       "    </tr>\n",
       "  </thead>\n",
       "  <tbody>\n",
       "    <tr>\n",
       "      <th>0</th>\n",
       "      <td>hessian</td>\n",
       "      <td>psi4</td>\n",
       "      <td>b3lyp-d3bj</td>\n",
       "      <td>dzvp</td>\n",
       "      <td>default</td>\n",
       "      <td>B3LYP-D3BJ/dzvp</td>\n",
       "    </tr>\n",
       "  </tbody>\n",
       "</table>\n",
       "</div>"
      ],
      "text/plain": [
       "    driver program      method basis keywords             name\n",
       "0  hessian    psi4  b3lyp-d3bj  dzvp  default  B3LYP-D3BJ/dzvp"
      ]
     },
     "execution_count": 63,
     "metadata": {},
     "output_type": "execute_result"
    }
   ],
   "source": [
    "openff_gen2_optset5.list_records()"
   ]
  },
  {
   "cell_type": "markdown",
   "id": "1c10c6a7-b5dd-4626-b413-b88ec552537d",
   "metadata": {},
   "source": [
    "### VEHICLE"
   ]
  },
  {
   "cell_type": "code",
   "execution_count": 90,
   "id": "28c4499b-966a-4dda-84cc-dca14e136abc",
   "metadata": {},
   "outputs": [],
   "source": [
    "vehicle = client.get_collection('Dataset', 'OpenFF VEHICLe Set 1')"
   ]
  },
  {
   "cell_type": "code",
   "execution_count": 91,
   "id": "218c8bdc-7254-4d6a-8e09-f3c6970d3881",
   "metadata": {},
   "outputs": [
    {
     "data": {
      "text/html": [
       "<div>\n",
       "<style scoped>\n",
       "    .dataframe tbody tr th:only-of-type {\n",
       "        vertical-align: middle;\n",
       "    }\n",
       "\n",
       "    .dataframe tbody tr th {\n",
       "        vertical-align: top;\n",
       "    }\n",
       "\n",
       "    .dataframe thead th {\n",
       "        text-align: right;\n",
       "    }\n",
       "</style>\n",
       "<table border=\"1\" class=\"dataframe\">\n",
       "  <thead>\n",
       "    <tr style=\"text-align: right;\">\n",
       "      <th></th>\n",
       "      <th>driver</th>\n",
       "      <th>program</th>\n",
       "      <th>method</th>\n",
       "      <th>basis</th>\n",
       "      <th>keywords</th>\n",
       "      <th>name</th>\n",
       "    </tr>\n",
       "  </thead>\n",
       "  <tbody>\n",
       "    <tr>\n",
       "      <th>1</th>\n",
       "      <td>hessian</td>\n",
       "      <td>psi4</td>\n",
       "      <td>b3lyp-d3bj</td>\n",
       "      <td>dzvp</td>\n",
       "      <td>default</td>\n",
       "      <td>B3LYP-D3BJ/dzvp-Psi4</td>\n",
       "    </tr>\n",
       "  </tbody>\n",
       "</table>\n",
       "</div>"
      ],
      "text/plain": [
       "    driver program      method basis keywords                  name\n",
       "1  hessian    psi4  b3lyp-d3bj  dzvp  default  B3LYP-D3BJ/dzvp-Psi4"
      ]
     },
     "execution_count": 91,
     "metadata": {},
     "output_type": "execute_result"
    }
   ],
   "source": [
    "vehicle.list_records()"
   ]
  },
  {
   "cell_type": "markdown",
   "id": "18f40525-eb6b-4a84-b687-4d0507b53769",
   "metadata": {},
   "source": [
    "### RNA bgsu dataset"
   ]
  },
  {
   "cell_type": "code",
   "execution_count": 92,
   "id": "4d60baf4-2de9-4894-ac66-8f542c86d7d7",
   "metadata": {},
   "outputs": [],
   "source": [
    "rna = client.get_collection('Dataset', 'RNA Single Point Dataset v1.0')"
   ]
  },
  {
   "cell_type": "code",
   "execution_count": 93,
   "id": "bbe67d4e-3742-4140-9985-e65888412991",
   "metadata": {},
   "outputs": [
    {
     "data": {
      "text/html": [
       "<div>\n",
       "<style scoped>\n",
       "    .dataframe tbody tr th:only-of-type {\n",
       "        vertical-align: middle;\n",
       "    }\n",
       "\n",
       "    .dataframe tbody tr th {\n",
       "        vertical-align: top;\n",
       "    }\n",
       "\n",
       "    .dataframe thead th {\n",
       "        text-align: right;\n",
       "    }\n",
       "</style>\n",
       "<table border=\"1\" class=\"dataframe\">\n",
       "  <thead>\n",
       "    <tr style=\"text-align: right;\">\n",
       "      <th></th>\n",
       "      <th>driver</th>\n",
       "      <th>program</th>\n",
       "      <th>method</th>\n",
       "      <th>basis</th>\n",
       "      <th>keywords</th>\n",
       "      <th>name</th>\n",
       "    </tr>\n",
       "  </thead>\n",
       "  <tbody>\n",
       "    <tr>\n",
       "      <th>0</th>\n",
       "      <td>gradient</td>\n",
       "      <td>psi4</td>\n",
       "      <td>b3lyp</td>\n",
       "      <td>dzvp</td>\n",
       "      <td>default</td>\n",
       "      <td>B3LYP/dzvp-default</td>\n",
       "    </tr>\n",
       "    <tr>\n",
       "      <th>1</th>\n",
       "      <td>gradient</td>\n",
       "      <td>psi4</td>\n",
       "      <td>wb97m-d3bj</td>\n",
       "      <td>def2-tzvppd</td>\n",
       "      <td>wb97m-d3bj/def2-tzvppd</td>\n",
       "      <td>WB97M-D3BJ/def2-tzvppd-wb97m-d3bj/def2-tzvppd</td>\n",
       "    </tr>\n",
       "    <tr>\n",
       "      <th>3</th>\n",
       "      <td>gradient</td>\n",
       "      <td>psi4</td>\n",
       "      <td>b3lyp-d3bj</td>\n",
       "      <td>dzvp</td>\n",
       "      <td>default</td>\n",
       "      <td>B3LYP-D3BJ/dzvp-default</td>\n",
       "    </tr>\n",
       "  </tbody>\n",
       "</table>\n",
       "</div>"
      ],
      "text/plain": [
       "     driver program      method        basis                keywords  \\\n",
       "0  gradient    psi4       b3lyp         dzvp                 default   \n",
       "1  gradient    psi4  wb97m-d3bj  def2-tzvppd  wb97m-d3bj/def2-tzvppd   \n",
       "3  gradient    psi4  b3lyp-d3bj         dzvp                 default   \n",
       "\n",
       "                                            name  \n",
       "0                             B3LYP/dzvp-default  \n",
       "1  WB97M-D3BJ/def2-tzvppd-wb97m-d3bj/def2-tzvppd  \n",
       "3                        B3LYP-D3BJ/dzvp-default  "
      ]
     },
     "execution_count": 93,
     "metadata": {},
     "output_type": "execute_result"
    }
   ],
   "source": [
    "rna.list_records()"
   ]
  },
  {
   "cell_type": "code",
   "execution_count": 113,
   "id": "9df21716-5dd5-4b7d-ab38-9bcf1c884871",
   "metadata": {},
   "outputs": [],
   "source": [
    "rna_records = rna.get_records(method='wb97m-d3bj', basis='def2-tzvppd', program='psi4', keywords='wb97m-d3bj/def2-tzvppd')"
   ]
  },
  {
   "cell_type": "code",
   "execution_count": 144,
   "id": "fa96d139-6ddf-44fd-b255-be21b6502f4f",
   "metadata": {},
   "outputs": [
    {
     "data": {
      "text/html": [
       "<div>\n",
       "<style scoped>\n",
       "    .dataframe tbody tr th:only-of-type {\n",
       "        vertical-align: middle;\n",
       "    }\n",
       "\n",
       "    .dataframe tbody tr th {\n",
       "        vertical-align: top;\n",
       "    }\n",
       "\n",
       "    .dataframe thead th {\n",
       "        text-align: right;\n",
       "    }\n",
       "</style>\n",
       "<table border=\"1\" class=\"dataframe\">\n",
       "  <thead>\n",
       "    <tr style=\"text-align: right;\">\n",
       "      <th></th>\n",
       "      <th>record</th>\n",
       "    </tr>\n",
       "    <tr>\n",
       "      <th>index</th>\n",
       "      <th></th>\n",
       "    </tr>\n",
       "  </thead>\n",
       "  <tbody>\n",
       "    <tr>\n",
       "      <th>Nc1ccn([C@@H]2O[C@H](CO)[C@@H](O)[C@H]2O)c(=O)n1.Nc1ccn([C@@H]2O[C@H](CO)[C@@H](O)[C@H]2O)c(=O)n1-0</th>\n",
       "      <td>ResultRecord(id='109526909', status='INCOMPLETE')</td>\n",
       "    </tr>\n",
       "    <tr>\n",
       "      <th>Nc1ccn([C@@H]2O[C@H](CO)[C@@H](O)[C@H]2O)c(=O)n1.Nc1ccn([C@@H]2O[C@H](CO)[C@@H](O)[C@H]2O)c(=O)n1-1</th>\n",
       "      <td>ResultRecord(id='109527040', status='INCOMPLETE')</td>\n",
       "    </tr>\n",
       "    <tr>\n",
       "      <th>Nc1ccn([C@@H]2O[C@H](CO)[C@@H](O)[C@H]2O)c(=O)n1.Nc1ccn([C@@H]2O[C@H](CO)[C@@H](O)[C@H]2O)c(=O)n1-2</th>\n",
       "      <td>ResultRecord(id='109526893', status='INCOMPLETE')</td>\n",
       "    </tr>\n",
       "    <tr>\n",
       "      <th>Nc1ccn([C@@H]2O[C@H](CO)[C@@H](O)[C@H]2O)c(=O)n1.Nc1ccn([C@@H]2O[C@H](CO)[C@@H](O)[C@H]2O)c(=O)n1-3</th>\n",
       "      <td>ResultRecord(id='109526987', status='INCOMPLETE')</td>\n",
       "    </tr>\n",
       "    <tr>\n",
       "      <th>Nc1ccn([C@@H]2O[C@H](CO)[C@@H](O)[C@H]2O)c(=O)n1.Nc1ccn([C@@H]2O[C@H](CO)[C@@H](O)[C@H]2O)c(=O)n1-4</th>\n",
       "      <td>ResultRecord(id='109527080', status='INCOMPLETE')</td>\n",
       "    </tr>\n",
       "    <tr>\n",
       "      <th>...</th>\n",
       "      <td>...</td>\n",
       "    </tr>\n",
       "    <tr>\n",
       "      <th>O=c1ccn([C@@H]2O[C@H](COP(=O)([O-])O[C@@H]3[C@@H](COP(=O)([O-])O[C@@H]4[C@@H](CO)O[C@@H](n5ccc(=O)[nH]c5=O)[C@@H]4O)O[C@@H](n4ccc(=O)[nH]c4=O)[C@@H]3O)[C@@H](O)[C@H]2O)c(=O)[nH]1-73</th>\n",
       "      <td>ResultRecord(id='109526244', status='INCOMPLETE')</td>\n",
       "    </tr>\n",
       "    <tr>\n",
       "      <th>O=c1ccn([C@@H]2O[C@H](COP(=O)([O-])O[C@@H]3[C@@H](COP(=O)([O-])O[C@@H]4[C@@H](CO)O[C@@H](n5ccc(=O)[nH]c5=O)[C@@H]4O)O[C@@H](n4ccc(=O)[nH]c4=O)[C@@H]3O)[C@@H](O)[C@H]2O)c(=O)[nH]1-74</th>\n",
       "      <td>ResultRecord(id='109526247', status='INCOMPLETE')</td>\n",
       "    </tr>\n",
       "    <tr>\n",
       "      <th>O=c1ccn([C@@H]2O[C@H](COP(=O)([O-])O[C@@H]3[C@@H](COP(=O)([O-])O[C@@H]4[C@@H](CO)O[C@@H](n5ccc(=O)[nH]c5=O)[C@@H]4O)O[C@@H](n4ccc(=O)[nH]c4=O)[C@@H]3O)[C@@H](O)[C@H]2O)c(=O)[nH]1-75</th>\n",
       "      <td>ResultRecord(id='109526273', status='INCOMPLETE')</td>\n",
       "    </tr>\n",
       "    <tr>\n",
       "      <th>O=c1ccn([C@@H]2O[C@H](COP(=O)([O-])O[C@@H]3[C@@H](COP(=O)([O-])O[C@@H]4[C@@H](CO)O[C@@H](n5ccc(=O)[nH]c5=O)[C@@H]4O)O[C@@H](n4ccc(=O)[nH]c4=O)[C@@H]3O)[C@@H](O)[C@H]2O)c(=O)[nH]1-8</th>\n",
       "      <td>ResultRecord(id='109526250', status='INCOMPLETE')</td>\n",
       "    </tr>\n",
       "    <tr>\n",
       "      <th>O=c1ccn([C@@H]2O[C@H](COP(=O)([O-])O[C@@H]3[C@@H](COP(=O)([O-])O[C@@H]4[C@@H](CO)O[C@@H](n5ccc(=O)[nH]c5=O)[C@@H]4O)O[C@@H](n4ccc(=O)[nH]c4=O)[C@@H]3O)[C@@H](O)[C@H]2O)c(=O)[nH]1-9</th>\n",
       "      <td>ResultRecord(id='109526240', status='INCOMPLETE')</td>\n",
       "    </tr>\n",
       "  </tbody>\n",
       "</table>\n",
       "<p>4489 rows × 1 columns</p>\n",
       "</div>"
      ],
      "text/plain": [
       "                                                                                               record\n",
       "index                                                                                                \n",
       "Nc1ccn([C@@H]2O[C@H](CO)[C@@H](O)[C@H]2O)c(=O)n...  ResultRecord(id='109526909', status='INCOMPLETE')\n",
       "Nc1ccn([C@@H]2O[C@H](CO)[C@@H](O)[C@H]2O)c(=O)n...  ResultRecord(id='109527040', status='INCOMPLETE')\n",
       "Nc1ccn([C@@H]2O[C@H](CO)[C@@H](O)[C@H]2O)c(=O)n...  ResultRecord(id='109526893', status='INCOMPLETE')\n",
       "Nc1ccn([C@@H]2O[C@H](CO)[C@@H](O)[C@H]2O)c(=O)n...  ResultRecord(id='109526987', status='INCOMPLETE')\n",
       "Nc1ccn([C@@H]2O[C@H](CO)[C@@H](O)[C@H]2O)c(=O)n...  ResultRecord(id='109527080', status='INCOMPLETE')\n",
       "...                                                                                               ...\n",
       "O=c1ccn([C@@H]2O[C@H](COP(=O)([O-])O[C@@H]3[C@@...  ResultRecord(id='109526244', status='INCOMPLETE')\n",
       "O=c1ccn([C@@H]2O[C@H](COP(=O)([O-])O[C@@H]3[C@@...  ResultRecord(id='109526247', status='INCOMPLETE')\n",
       "O=c1ccn([C@@H]2O[C@H](COP(=O)([O-])O[C@@H]3[C@@...  ResultRecord(id='109526273', status='INCOMPLETE')\n",
       "O=c1ccn([C@@H]2O[C@H](COP(=O)([O-])O[C@@H]3[C@@...  ResultRecord(id='109526250', status='INCOMPLETE')\n",
       "O=c1ccn([C@@H]2O[C@H](COP(=O)([O-])O[C@@H]3[C@@...  ResultRecord(id='109526240', status='INCOMPLETE')\n",
       "\n",
       "[4489 rows x 1 columns]"
      ]
     },
     "execution_count": 144,
     "metadata": {},
     "output_type": "execute_result"
    }
   ],
   "source": [
    "rna_records"
   ]
  },
  {
   "cell_type": "code",
   "execution_count": 181,
   "id": "73b4497b-4311-4bde-97b9-c297ae6d3d8c",
   "metadata": {
    "scrolled": true,
    "tags": []
   },
   "outputs": [
    {
     "data": {
      "text/plain": [
       "{'id': '109526909',\n",
       " 'hash_index': None,\n",
       " 'procedure': 'single',\n",
       " 'program': 'psi4',\n",
       " 'version': 1,\n",
       " 'protocols': {'wavefunction': <WavefunctionProtocolEnum.none: 'none'>},\n",
       " 'extras': {},\n",
       " 'stdout': None,\n",
       " 'stderr': None,\n",
       " 'error': None,\n",
       " 'manager_name': None,\n",
       " 'status': <RecordStatusEnum.incomplete: 'INCOMPLETE'>,\n",
       " 'modified_on': datetime.datetime(2022, 7, 15, 3, 7, 27, 752940),\n",
       " 'created_on': datetime.datetime(2022, 7, 15, 3, 7, 27, 752940),\n",
       " 'provenance': None,\n",
       " 'driver': <DriverEnum.gradient: 'gradient'>,\n",
       " 'method': 'wb97m-d3bj',\n",
       " 'molecule': '102478519',\n",
       " 'basis': 'def2-tzvppd',\n",
       " 'keywords': '35',\n",
       " 'return_result': None,\n",
       " 'properties': None,\n",
       " 'wavefunction': None,\n",
       " 'wavefunction_data_id': None}"
      ]
     },
     "execution_count": 181,
     "metadata": {},
     "output_type": "execute_result"
    }
   ],
   "source": [
    "rna_records.record[0].dict()\n",
    "#rna_records.iloc[0].record.dict()"
   ]
  },
  {
   "cell_type": "code",
   "execution_count": 189,
   "id": "b05037c4-9896-455b-8df1-c8d74905c155",
   "metadata": {},
   "outputs": [
    {
     "name": "stdout",
     "output_type": "stream",
     "text": [
      "records:  4489\n",
      "entries:  4489\n",
      "mols:     4489\n"
     ]
    }
   ],
   "source": [
    "print(\"records: \", len(rna_records))\n",
    "print(\"entries: \", len(rna.get_entries()))\n",
    "print(\"mols:    \", len(rna.get_molecules()))"
   ]
  },
  {
   "cell_type": "code",
   "execution_count": 219,
   "id": "26bc7d29-ec7f-49bf-93da-00a2cc9a943d",
   "metadata": {},
   "outputs": [
    {
     "data": {
      "application/vnd.jupyter.widget-view+json": {
       "model_id": "0e92c7b2fca74416ae041a0cf46b2be9",
       "version_major": 2,
       "version_minor": 0
      },
      "text/plain": [
       "NGLWidget()"
      ]
     },
     "metadata": {},
     "output_type": "display_data"
    }
   ],
   "source": [
    "mol = client.query_molecules(rna_records.iloc[i].record.molecule)[0]\n",
    "mol"
   ]
  },
  {
   "cell_type": "code",
   "execution_count": 220,
   "id": "31937c87-7781-4917-b936-91ef772bca1b",
   "metadata": {},
   "outputs": [
    {
     "data": {
      "text/plain": [
       "'102478006'"
      ]
     },
     "execution_count": 220,
     "metadata": {},
     "output_type": "execute_result"
    }
   ],
   "source": [
    "mol.id"
   ]
  },
  {
   "cell_type": "markdown",
   "id": "c15450de-0e50-4fe9-a02d-d567a4be09aa",
   "metadata": {},
   "source": [
    "### SPICE v1.0\n",
    "https://github.com/openmm/spice-dataset/blob/1.0/downloader/config.yaml"
   ]
  },
  {
   "cell_type": "code",
   "execution_count": 98,
   "id": "28eff649-f91e-4dbc-a5cc-c8d84ad44008",
   "metadata": {},
   "outputs": [],
   "source": [
    "subsets = [  \n",
    "    'SPICE Solvated Amino Acids Single Points Dataset v1.1',\n",
    "    'SPICE Dipeptides Single Points Dataset v1.2',\n",
    "    'SPICE DES Monomers Single Points Dataset v1.1',\n",
    "    'SPICE DES370K Single Points Dataset v1.0',\n",
    "    'SPICE DES370K Single Points Dataset Supplement v1.0',\n",
    "    'SPICE PubChem Set 1 Single Points Dataset v1.2',\n",
    "    'SPICE PubChem Set 2 Single Points Dataset v1.2',\n",
    "    'SPICE PubChem Set 3 Single Points Dataset v1.2',\n",
    "    'SPICE PubChem Set 4 Single Points Dataset v1.2',\n",
    "    'SPICE PubChem Set 5 Single Points Dataset v1.2',\n",
    "    'SPICE PubChem Set 6 Single Points Dataset v1.2',\n",
    "    'SPICE Ion Pairs Single Points Dataset v1.1'\n",
    "]"
   ]
  },
  {
   "cell_type": "raw",
   "id": "289ccbe0-86a5-4e3c-b9f0-6ebf418561ce",
   "metadata": {},
   "source": [
    "# DO NOT RUN! THIS WILL TAKE VERY LONG TIME!!\n",
    "\n",
    "for subset in subsets:\n",
    "    c = client.get_collection('Dataset', subset)\n",
    "    print(c.name)\n",
    "    \n",
    "    \n",
    "    method = c.list_records()[\"method\"][0]\n",
    "    basis = c.list_records()[\"basis\"][0]\n",
    "    program = c.list_records()[\"program\"][0]\n",
    "    keywords = c.list_records()[\"keywords\"][0]\n",
    "    print(method, basis, program, keywords)\n",
    "    \n",
    "    recs = c.get_records(method=method, basis=basis, program=program, keywords=keywords)\n",
    "    print(\"records: \", len(recs))\n",
    "    print(\"entries: \", len(c.get_entries()))\n",
    "    print(\"mols:    \", len(c.get_molecules()))\n",
    "    print(\"============\")"
   ]
  },
  {
   "cell_type": "code",
   "execution_count": null,
   "id": "3fc74785-e857-41a7-9504-5e9edbf8cdaf",
   "metadata": {},
   "outputs": [],
   "source": []
  },
  {
   "cell_type": "code",
   "execution_count": null,
   "id": "7848d746-287e-4335-9ae5-94e1d2b99aac",
   "metadata": {},
   "outputs": [],
   "source": []
  },
  {
   "cell_type": "code",
   "execution_count": null,
   "id": "607c23d8-d373-4cad-8d53-785a81e4a529",
   "metadata": {},
   "outputs": [],
   "source": []
  },
  {
   "cell_type": "code",
   "execution_count": null,
   "id": "d7d49b11-f6d7-4e30-8613-9c73b0e704c4",
   "metadata": {},
   "outputs": [],
   "source": []
  },
  {
   "cell_type": "code",
   "execution_count": null,
   "id": "2e9ed09b-e010-4235-a136-4b5aaa09d090",
   "metadata": {},
   "outputs": [],
   "source": []
  },
  {
   "cell_type": "code",
   "execution_count": null,
   "id": "ab4f8ebb-c396-4247-8473-65029e16483f",
   "metadata": {},
   "outputs": [],
   "source": []
  },
  {
   "cell_type": "code",
   "execution_count": null,
   "id": "e88ce992-b8c7-4d51-b165-789b12ca6c89",
   "metadata": {},
   "outputs": [],
   "source": []
  },
  {
   "cell_type": "code",
   "execution_count": null,
   "id": "2abf40a1-7106-4f8f-908b-0da2d60b709d",
   "metadata": {},
   "outputs": [],
   "source": []
  },
  {
   "cell_type": "code",
   "execution_count": null,
   "id": "ea0d8528-1728-4da9-9384-f75156e92f05",
   "metadata": {},
   "outputs": [],
   "source": []
  },
  {
   "cell_type": "code",
   "execution_count": null,
   "id": "b87cfd15-0ad7-4a21-8c3c-1f35fc355cc6",
   "metadata": {},
   "outputs": [],
   "source": []
  },
  {
   "cell_type": "code",
   "execution_count": null,
   "id": "bc9325e3-c212-47dd-a060-cee5def27b4a",
   "metadata": {},
   "outputs": [],
   "source": []
  },
  {
   "cell_type": "code",
   "execution_count": null,
   "id": "1a4e67a2-6334-43b8-a56d-d21dc69249c7",
   "metadata": {},
   "outputs": [],
   "source": []
  },
  {
   "cell_type": "code",
   "execution_count": null,
   "id": "ff6b0369-6ee5-47fa-aa00-39f8f0a9836b",
   "metadata": {},
   "outputs": [],
   "source": []
  },
  {
   "cell_type": "code",
   "execution_count": null,
   "id": "3f0663fd-575a-428e-9e6a-bfeba18bdedb",
   "metadata": {},
   "outputs": [],
   "source": []
  },
  {
   "cell_type": "code",
   "execution_count": null,
   "id": "b11dc1f2-179c-4fda-8e86-fd2ed595c280",
   "metadata": {},
   "outputs": [],
   "source": []
  },
  {
   "cell_type": "code",
   "execution_count": null,
   "id": "df85ca6b-8673-479f-97c0-c1176393923c",
   "metadata": {},
   "outputs": [],
   "source": []
  }
 ],
 "metadata": {
  "kernelspec": {
   "display_name": "Python 3 (ipykernel)",
   "language": "python",
   "name": "python3"
  },
  "language_info": {
   "codemirror_mode": {
    "name": "ipython",
    "version": 3
   },
   "file_extension": ".py",
   "mimetype": "text/x-python",
   "name": "python",
   "nbconvert_exporter": "python",
   "pygments_lexer": "ipython3",
   "version": "3.9.13"
  }
 },
 "nbformat": 4,
 "nbformat_minor": 5
}
