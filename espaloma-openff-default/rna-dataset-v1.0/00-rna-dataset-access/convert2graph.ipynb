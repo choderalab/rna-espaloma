{
 "cells": [
  {
   "cell_type": "code",
   "execution_count": 1,
   "id": "97390305-5eca-45b8-a223-129ef1e6db36",
   "metadata": {},
   "outputs": [
    {
     "name": "stderr",
     "output_type": "stream",
     "text": [
      "Warning: importing 'simtk.openmm' is deprecated.  Import 'openmm' instead.\n",
      "Warning: Unable to load toolkit 'AmberTools'. \n"
     ]
    }
   ],
   "source": [
    "import os, sys\n",
    "import numpy as np\n",
    "import torch\n",
    "import espaloma as esp\n",
    "import qcportal as ptl\n",
    "from collections import Counter\n",
    "from openff.toolkit.topology import Molecule\n",
    "from openff.qcsubmit.results import BasicResultCollection\n",
    "from simtk import unit\n",
    "from simtk.unit import Quantity\n",
    "from matplotlib import pyplot as plt"
   ]
  },
  {
   "cell_type": "code",
   "execution_count": 2,
   "id": "b526b7bb-8bd2-47b3-b971-e3cb7afa31e5",
   "metadata": {},
   "outputs": [],
   "source": [
    "collection_type = \"Dataset\"\n",
    "name = \"RNA Single Point Dataset v1.0\"\n",
    "\n",
    "client = ptl.FractalClient()\n",
    "collection = client.get_collection(collection_type, name)"
   ]
  },
  {
   "cell_type": "markdown",
   "id": "25cb1e2f-90d1-4e68-8990-b055da04575a",
   "metadata": {},
   "source": [
    "#### check record"
   ]
  },
  {
   "cell_type": "code",
   "execution_count": 3,
   "id": "f3c71eb4-f4a5-472b-8258-a62ae84b59e9",
   "metadata": {},
   "outputs": [
    {
     "data": {
      "text/html": [
       "<div>\n",
       "<style scoped>\n",
       "    .dataframe tbody tr th:only-of-type {\n",
       "        vertical-align: middle;\n",
       "    }\n",
       "\n",
       "    .dataframe tbody tr th {\n",
       "        vertical-align: top;\n",
       "    }\n",
       "\n",
       "    .dataframe thead th {\n",
       "        text-align: right;\n",
       "    }\n",
       "</style>\n",
       "<table border=\"1\" class=\"dataframe\">\n",
       "  <thead>\n",
       "    <tr style=\"text-align: right;\">\n",
       "      <th></th>\n",
       "      <th>driver</th>\n",
       "      <th>program</th>\n",
       "      <th>method</th>\n",
       "      <th>basis</th>\n",
       "      <th>keywords</th>\n",
       "      <th>name</th>\n",
       "    </tr>\n",
       "  </thead>\n",
       "  <tbody>\n",
       "    <tr>\n",
       "      <th>0</th>\n",
       "      <td>gradient</td>\n",
       "      <td>psi4</td>\n",
       "      <td>wb97m-d3bj</td>\n",
       "      <td>def2-tzvppd</td>\n",
       "      <td>wb97m-d3bj/def2-tzvppd</td>\n",
       "      <td>WB97M-D3BJ/def2-tzvppd-wb97m-d3bj/def2-tzvppd</td>\n",
       "    </tr>\n",
       "    <tr>\n",
       "      <th>2</th>\n",
       "      <td>gradient</td>\n",
       "      <td>psi4</td>\n",
       "      <td>b3lyp</td>\n",
       "      <td>dzvp</td>\n",
       "      <td>default</td>\n",
       "      <td>B3LYP/dzvp-default</td>\n",
       "    </tr>\n",
       "    <tr>\n",
       "      <th>3</th>\n",
       "      <td>gradient</td>\n",
       "      <td>psi4</td>\n",
       "      <td>b3lyp-d3bj</td>\n",
       "      <td>dzvp</td>\n",
       "      <td>default</td>\n",
       "      <td>B3LYP-D3BJ/dzvp-default</td>\n",
       "    </tr>\n",
       "  </tbody>\n",
       "</table>\n",
       "</div>"
      ],
      "text/plain": [
       "     driver program      method        basis                keywords  \\\n",
       "0  gradient    psi4  wb97m-d3bj  def2-tzvppd  wb97m-d3bj/def2-tzvppd   \n",
       "2  gradient    psi4       b3lyp         dzvp                 default   \n",
       "3  gradient    psi4  b3lyp-d3bj         dzvp                 default   \n",
       "\n",
       "                                            name  \n",
       "0  WB97M-D3BJ/def2-tzvppd-wb97m-d3bj/def2-tzvppd  \n",
       "2                             B3LYP/dzvp-default  \n",
       "3                        B3LYP-D3BJ/dzvp-default  "
      ]
     },
     "execution_count": 3,
     "metadata": {},
     "output_type": "execute_result"
    }
   ],
   "source": [
    "rna = client.get_collection(collection_type, name)\n",
    "rna.list_records()"
   ]
  },
  {
   "cell_type": "code",
   "execution_count": 4,
   "id": "610fc14c-b6ce-4d44-8434-a9e2ced05edc",
   "metadata": {},
   "outputs": [
    {
     "name": "stdout",
     "output_type": "stream",
     "text": [
      "length of dataframe 2 \n",
      " No. of records in each:  4489 4489\n"
     ]
    }
   ],
   "source": [
    "#recs = collection.get_records(method='wb97m-d3bj', basis='def2-tzvppd', program='psi4', keywords='wb97m-d3bj/def2-tzvppd')\n",
    "recs = collection.get_records(method='b3lyp-d3bj', basis='dzvp', program='psi4', keywords='default')\n",
    "print(\"length of dataframe\", len(recs), \"\\n\", \"No. of records in each: \",  len(recs[0]), len(recs[1]))"
   ]
  },
  {
   "cell_type": "markdown",
   "id": "2634c3a2-9ff6-49ec-8edd-ed9661203036",
   "metadata": {},
   "source": [
    "#### inspect"
   ]
  },
  {
   "cell_type": "code",
   "execution_count": 5,
   "id": "96bef6d9-e43b-4001-a76a-74cf014ecac1",
   "metadata": {
    "scrolled": true,
    "tags": []
   },
   "outputs": [],
   "source": [
    "# Sample dictionary of a record, and the properties that can be accessed through this\n",
    "d3bj_correction_dataframe = recs[0]\n",
    "# first record \n",
    "#print(d3bj_correction_dataframe.iloc[0].record.dict())"
   ]
  },
  {
   "cell_type": "code",
   "execution_count": 6,
   "id": "cfff504b-00c4-4b5d-8749-05ed4cee9b94",
   "metadata": {
    "scrolled": true,
    "tags": []
   },
   "outputs": [],
   "source": [
    "# Sample dictionary of a record, and the properties that can be accessed through this\n",
    "b3lyp_dataframe = recs[1]\n",
    "# first record \n",
    "#print(b3lyp_dataframe.iloc[0].record.dict())"
   ]
  },
  {
   "cell_type": "code",
   "execution_count": 7,
   "id": "4bfb1a95-9ec6-46d4-827b-81bcac46144e",
   "metadata": {
    "scrolled": true,
    "tags": []
   },
   "outputs": [],
   "source": [
    "#b3lyp_dataframe.record[0].dict()"
   ]
  },
  {
   "cell_type": "code",
   "execution_count": 8,
   "id": "bf4f31e5-52e0-4b22-a426-4e3f688c680d",
   "metadata": {
    "scrolled": true,
    "tags": []
   },
   "outputs": [],
   "source": [
    "#d3bj_correction_dataframe.record[0].dict()"
   ]
  },
  {
   "cell_type": "markdown",
   "id": "f0bdd935-5a73-463b-9df5-dbfb242aa3a1",
   "metadata": {},
   "source": [
    "#### combine two energies"
   ]
  },
  {
   "cell_type": "code",
   "execution_count": 9,
   "id": "0cb7d328-6736-4387-920b-27a71c1c36c1",
   "metadata": {
    "scrolled": true,
    "tags": []
   },
   "outputs": [],
   "source": [
    "# Some calculations failed due to SCF convergence errors, so excluding those by checking the record status of b3lyp calculation\n",
    "for i in range(len(recs[0])):\n",
    "    if recs[1].iloc[i].record.status == 'COMPLETE':\n",
    "        #print(\"B3LYP + D3BJ energy of \", recs[1].iloc[i].record.id, recs[1].iloc[i].name, recs[1].iloc[i].record.properties.return_energy + recs[0].iloc[i].record.properties.return_energy)\n",
    "        pass"
   ]
  },
  {
   "cell_type": "code",
   "execution_count": 10,
   "id": "e677553d-e862-4715-9b52-f0b0c2aa1f9d",
   "metadata": {},
   "outputs": [
    {
     "name": "stdout",
     "output_type": "stream",
     "text": [
      "B3LYP + D3BJ energy of  109520662 O=c1ccn([C@@H]2O[C@H](COP(=O)([O-])O[C@@H]3[C@@H](COP(=O)([O-])O[C@@H]4[C@@H](CO)O[C@@H](n5ccc(=O)[nH]c5=O)[C@@H]4O)O[C@@H](n4ccc(=O)[nH]c4=O)[C@@H]3O)[C@@H](O)[C@H]2O)c(=O)[nH]1-9 -3715.1842143644626\n"
     ]
    }
   ],
   "source": [
    "print(\"B3LYP + D3BJ energy of \", recs[1].iloc[i].record.id, recs[1].iloc[i].name, recs[1].iloc[i].record.properties.return_energy + recs[0].iloc[i].record.properties.return_energy)"
   ]
  },
  {
   "cell_type": "markdown",
   "id": "d6990341-f14e-416a-8814-c6777f9cfec0",
   "metadata": {},
   "source": [
    "#### combine two gradient"
   ]
  },
  {
   "cell_type": "code",
   "execution_count": 11,
   "id": "587c572d-ad4a-4ed3-a15b-797ae66439c1",
   "metadata": {
    "scrolled": true,
    "tags": []
   },
   "outputs": [],
   "source": [
    "#recs[1].iloc[i].record.dict()"
   ]
  },
  {
   "cell_type": "code",
   "execution_count": 12,
   "id": "936c1b5c-7f4b-4fee-8b5d-4b7aae9c9c85",
   "metadata": {},
   "outputs": [
    {
     "name": "stdout",
     "output_type": "stream",
     "text": [
      "None -0.20735354\n"
     ]
    }
   ],
   "source": [
    "#assert recs[0].iloc[-1].record.properties.scf_total_energy == recs[0].iloc[-1].record.properties.return_energy\n",
    "print(recs[0].iloc[-1].record.properties.scf_total_energy, recs[0].iloc[-1].record.properties.return_energy)"
   ]
  },
  {
   "cell_type": "code",
   "execution_count": 13,
   "id": "7b573a28-37be-46b9-bde2-ac5b03d35575",
   "metadata": {},
   "outputs": [],
   "source": [
    "assert recs[1].iloc[-1].record.properties.scf_total_energy == recs[1].iloc[-1].record.properties.return_energy"
   ]
  },
  {
   "cell_type": "code",
   "execution_count": 14,
   "id": "f9161811-c3c7-4594-bde2-9ed13cefb466",
   "metadata": {},
   "outputs": [],
   "source": [
    "return_result = recs[1].iloc[-1].record.return_result\n",
    "current_grad = recs[1].iloc[-1].record.extras['qcvars']['CURRENT GRADIENT']\n",
    "dft_total_grad = recs[1].iloc[-1].record.extras['qcvars']['DFT TOTAL GRADIENT']\n",
    "scf_total_grad = recs[1].iloc[-1].record.extras['qcvars']['SCF TOTAL GRADIENT']"
   ]
  },
  {
   "cell_type": "code",
   "execution_count": 15,
   "id": "8c4f36cf-b30a-4393-9542-59511cbf8166",
   "metadata": {
    "scrolled": true,
    "tags": []
   },
   "outputs": [],
   "source": [
    "#(return_result - current_grad).flatten()"
   ]
  },
  {
   "cell_type": "code",
   "execution_count": 16,
   "id": "9e1a8f28-b469-458c-8e85-4b888b887fd2",
   "metadata": {
    "scrolled": true,
    "tags": []
   },
   "outputs": [],
   "source": [
    "#(return_result - dft_total_grad).flatten()"
   ]
  },
  {
   "cell_type": "code",
   "execution_count": 17,
   "id": "6d7ca665-a59e-419a-b776-27aa49546946",
   "metadata": {
    "scrolled": true,
    "tags": []
   },
   "outputs": [],
   "source": [
    "#(return_result - scf_total_grad).flatten()"
   ]
  },
  {
   "cell_type": "code",
   "execution_count": 18,
   "id": "08d04370-4995-43f9-8a89-5e1f81f50f36",
   "metadata": {
    "scrolled": true,
    "tags": []
   },
   "outputs": [],
   "source": [
    "# Some calculations failed due to SCF convergence errors, so excluding those by checking the record status of b3lyp calculation\n",
    "#print(\"B3LYP + D3BJ energy of \", recs[1].iloc[-1].record.id, recs[-1].iloc[i].name, recs[1].iloc[-1].record.return_result + recs[0].iloc[-1].record.return_result)"
   ]
  },
  {
   "cell_type": "code",
   "execution_count": 19,
   "id": "cd49103f-37a4-49d1-8499-1c5bc4c6779f",
   "metadata": {},
   "outputs": [],
   "source": [
    "#recs[1].iloc[-1].record.return_result[:3]"
   ]
  },
  {
   "cell_type": "code",
   "execution_count": 20,
   "id": "547dc332-4d5a-4012-8694-f39617361c6c",
   "metadata": {},
   "outputs": [],
   "source": [
    "#recs[0].iloc[-1].record.return_result[:3]"
   ]
  },
  {
   "cell_type": "markdown",
   "id": "71dba695-acba-4f92-8284-79b35c9135fc",
   "metadata": {},
   "source": [
    "#### convert mol to graph"
   ]
  },
  {
   "cell_type": "code",
   "execution_count": 21,
   "id": "993c2c13-2b5d-4551-9395-0442b8bf1cb3",
   "metadata": {},
   "outputs": [
    {
     "data": {
      "application/vnd.jupyter.widget-view+json": {
       "model_id": "049a53510f6547fa8f37773082e03193",
       "version_major": 2,
       "version_minor": 0
      },
      "text/plain": []
     },
     "metadata": {},
     "output_type": "display_data"
    },
    {
     "data": {
      "application/vnd.jupyter.widget-view+json": {
       "model_id": "33fa464388aa4162bb04efb8b1b66162",
       "version_major": 2,
       "version_minor": 0
      },
      "text/plain": [
       "NGLWidget()"
      ]
     },
     "metadata": {},
     "output_type": "display_data"
    }
   ],
   "source": [
    "i = -1\n",
    "mol = client.query_molecules(recs[0].iloc[i].record.molecule)[0]\n",
    "mol"
   ]
  },
  {
   "cell_type": "code",
   "execution_count": 22,
   "id": "5156e146-8dbd-458e-b7a5-18fe5b23f2db",
   "metadata": {},
   "outputs": [
    {
     "name": "stderr",
     "output_type": "stream",
     "text": [
      "Warning (not error because allow_undefined_stereo=True): OEMol has unspecified stereochemistry. oemol.GetTitle(): \n",
      "Problematic atoms are:\n",
      "Atom atomic num: 15, name: , idx: 28, aromatic: False, chiral: True with bonds:\n",
      "bond order: 1, chiral: False to atom atomic num: 8, name: , idx: 27, aromatic: False, chiral: False\n",
      "bond order: 1, chiral: False to atom atomic num: 8, name: , idx: 29, aromatic: False, chiral: False\n",
      "bond order: 2, chiral: False to atom atomic num: 8, name: , idx: 30, aromatic: False, chiral: False\n",
      "bond order: 1, chiral: False to atom atomic num: 8, name: , idx: 31, aromatic: False, chiral: False\n",
      "Atom atomic num: 15, name: , idx: 58, aromatic: False, chiral: True with bonds:\n",
      "bond order: 1, chiral: False to atom atomic num: 8, name: , idx: 57, aromatic: False, chiral: False\n",
      "bond order: 1, chiral: False to atom atomic num: 8, name: , idx: 59, aromatic: False, chiral: False\n",
      "bond order: 2, chiral: False to atom atomic num: 8, name: , idx: 60, aromatic: False, chiral: False\n",
      "bond order: 1, chiral: False to atom atomic num: 8, name: , idx: 61, aromatic: False, chiral: False\n",
      "\n",
      "Warning: : Failed due to unspecified stereochemistry\n",
      "Warning (not error because allow_undefined_stereo=True): OEMol has unspecified stereochemistry. oemol.GetTitle(): \n",
      "Problematic atoms are:\n",
      "Atom atomic num: 15, name: , idx: 28, aromatic: False, chiral: True with bonds:\n",
      "bond order: 1, chiral: False to atom atomic num: 8, name: , idx: 10, aromatic: False, chiral: False\n",
      "bond order: 1, chiral: False to atom atomic num: 8, name: , idx: 29, aromatic: False, chiral: False\n",
      "bond order: 2, chiral: False to atom atomic num: 8, name: , idx: 30, aromatic: False, chiral: False\n",
      "bond order: 1, chiral: False to atom atomic num: 8, name: , idx: 31, aromatic: False, chiral: False\n",
      "Atom atomic num: 15, name: , idx: 58, aromatic: False, chiral: True with bonds:\n",
      "bond order: 1, chiral: False to atom atomic num: 8, name: , idx: 40, aromatic: False, chiral: False\n",
      "bond order: 1, chiral: False to atom atomic num: 8, name: , idx: 59, aromatic: False, chiral: False\n",
      "bond order: 2, chiral: False to atom atomic num: 8, name: , idx: 60, aromatic: False, chiral: False\n",
      "bond order: 1, chiral: False to atom atomic num: 8, name: , idx: 61, aromatic: False, chiral: False\n",
      "\n"
     ]
    }
   ],
   "source": [
    "offmol = Molecule.from_qcschema(mol, allow_undefined_stereo=True)   # convert to OpenFF Molecule object\n",
    "offmol.compute_partial_charges_am1bcc()   # https://docs.openforcefield.org/projects/toolkit/en/0.9.2/api/generated/openff.toolkit.topology.Molecule.html"
   ]
  },
  {
   "cell_type": "code",
   "execution_count": 23,
   "id": "8533fff7-bf69-4160-b297-a0dab443dd78",
   "metadata": {},
   "outputs": [
    {
     "data": {
      "text/plain": [
       "tensor([-0.5622,  0.3857,  0.1125,  0.0082,  0.0082,  0.0966,  0.1489, -0.4368,\n",
       "         0.1804,  0.0983, -0.5822,  0.1144,  0.0624, -0.5808,  0.4376,  0.2652,\n",
       "         0.1247, -0.3635,  0.8083, -0.6184, -0.5942,  0.3410,  0.7215, -0.6601,\n",
       "        -0.3701,  0.1633,  0.0853,  0.1740,  1.4328, -0.8183, -0.8183, -0.5609,\n",
       "         0.1499,  0.0346,  0.0346,  0.1110,  0.1314, -0.4176,  0.1607,  0.0687,\n",
       "        -0.5831,  0.1036,  0.0832, -0.5977,  0.4264,  0.2630,  0.1091, -0.3645,\n",
       "         0.8058, -0.6565, -0.5970,  0.3346,  0.7178, -0.6647, -0.3537,  0.1806,\n",
       "         0.0860,  0.2170,  1.4255, -0.8063, -0.8063, -0.5662,  0.1594,  0.0361,\n",
       "         0.0361,  0.1313,  0.1017, -0.4254,  0.1320,  0.1092, -0.5925,  0.4181,\n",
       "         0.0686,  0.0772, -0.5910,  0.4241,  0.2690,  0.1032, -0.3816,  0.8052,\n",
       "        -0.6755, -0.5879,  0.3422,  0.7183, -0.6373, -0.3382,  0.1819,  0.0825,\n",
       "         0.1998], dtype=torch.float64)"
      ]
     },
     "execution_count": 23,
     "metadata": {},
     "output_type": "execute_result"
    }
   ],
   "source": [
    "torch.tensor(offmol.partial_charges.value_in_unit(esp.units.CHARGE_UNIT))"
   ]
  },
  {
   "cell_type": "code",
   "execution_count": 24,
   "id": "43a17eac-8983-4ae3-849b-f28ef6bf61ee",
   "metadata": {},
   "outputs": [],
   "source": [
    "_energy1 = recs[0].iloc[i].record.properties.return_energy\n",
    "_energy2 = recs[1].iloc[i].record.properties.return_energy\n",
    "\n",
    "_grad1 = recs[0].iloc[i].record.return_result\n",
    "_grad2 = recs[0].iloc[i].record.return_result"
   ]
  },
  {
   "cell_type": "code",
   "execution_count": 25,
   "id": "2c673d5f-d613-4185-aa66-fa391b3374f7",
   "metadata": {},
   "outputs": [
    {
     "name": "stdout",
     "output_type": "stream",
     "text": [
      "-3715.1842143644626\n",
      "[[ 0.00076727  0.00087557 -0.00136133]\n",
      " [ 0.00021946  0.00039229 -0.00060083]\n",
      " [ 0.00147035  0.00101746 -0.00067559]\n",
      " [ 0.00060044  0.00037367 -0.00036135]\n",
      " [ 0.00054612  0.00046903 -0.00011695]]\n"
     ]
    }
   ],
   "source": [
    "energy = _energy1 + _energy2\n",
    "grad = _grad1 + _grad2\n",
    "print(energy)\n",
    "print(grad[:5])"
   ]
  },
  {
   "cell_type": "code",
   "execution_count": 26,
   "id": "bf629f21-4f51-469f-821e-c7bd4cacf16a",
   "metadata": {},
   "outputs": [
    {
     "name": "stderr",
     "output_type": "stream",
     "text": [
      "/Users/takabak/mambaforge/envs/espaloma/lib/python3.9/site-packages/dgl-0.9.0-py3.9-macosx-11.0-arm64.egg/dgl/heterograph.py:72: DGLWarning: Recommend creating graphs by `dgl.graph(data)` instead of `dgl.DGLGraph(data)`.\n",
      "  dgl_warning('Recommend creating graphs by `dgl.graph(data)`'\n"
     ]
    }
   ],
   "source": [
    "g = esp.Graph(offmol)\n",
    "    \n",
    "# energy is already hartree\n",
    "e = torch.tensor(\n",
    "    [\n",
    "        Quantity(\n",
    "            energy,\n",
    "            esp.units.HARTREE_PER_PARTICLE,\n",
    "        ).value_in_unit(esp.units.ENERGY_UNIT)\n",
    "    ],\n",
    "    dtype=torch.get_default_dtype(),\n",
    ")[None, :]\n",
    "\n",
    "xyz = torch.tensor(\n",
    "    np.stack(\n",
    "        [\n",
    "            Quantity(\n",
    "                mol.geometry,\n",
    "                unit.bohr,\n",
    "            ).value_in_unit(esp.units.DISTANCE_UNIT)\n",
    "        ],\n",
    "        axis=1,\n",
    "    ),\n",
    "    requires_grad=True,\n",
    "    dtype=torch.get_default_dtype(),\n",
    ")\n",
    "\n",
    "u = torch.stack(\n",
    "    [\n",
    "        torch.tensor(\n",
    "            Quantity(\n",
    "                grad,\n",
    "                esp.units.HARTREE_PER_PARTICLE / unit.bohr,\n",
    "            ).value_in_unit(esp.units.FORCE_UNIT),\n",
    "            dtype=torch.get_default_dtype(),\n",
    "        )\n",
    "    ],\n",
    "    dim=1,\n",
    ")\n",
    "\n",
    "c = torch.tensor(offmol.partial_charges.value_in_unit(esp.units.CHARGE_UNIT), dtype=torch.get_default_dtype(),).unsqueeze(-1)"
   ]
  },
  {
   "cell_type": "code",
   "execution_count": 27,
   "id": "9cb1b75b-2ef1-480c-9e8f-54ee38848673",
   "metadata": {},
   "outputs": [
    {
     "name": "stdout",
     "output_type": "stream",
     "text": [
      "torch.Size([1, 1]) torch.Size([89, 1, 3]) torch.Size([89, 1, 3]) torch.Size([89, 1])\n"
     ]
    }
   ],
   "source": [
    "print(e.shape, xyz.shape, u.shape, c.shape)"
   ]
  },
  {
   "cell_type": "markdown",
   "id": "7b8650be-61b5-48e3-9bfe-c377e7e1cb81",
   "metadata": {},
   "source": [
    "#### save as pickle"
   ]
  },
  {
   "cell_type": "code",
   "execution_count": 28,
   "id": "bc9325e3-c212-47dd-a060-cee5def27b4a",
   "metadata": {},
   "outputs": [],
   "source": [
    "# save as pickle object\n",
    "import pickle\n",
    "with open('offmol.pkl', 'wb') as pkl:\n",
    "     pickle.dump(offmol, pkl, protocol=4)"
   ]
  },
  {
   "cell_type": "code",
   "execution_count": 29,
   "id": "1a4e67a2-6334-43b8-a56d-d21dc69249c7",
   "metadata": {},
   "outputs": [],
   "source": [
    "with open('offmol.pkl', 'rb') as db:\n",
    "    offmol_pkl = pickle.load(db)"
   ]
  },
  {
   "cell_type": "code",
   "execution_count": 30,
   "id": "ff6b0369-6ee5-47fa-aa00-39f8f0a9836b",
   "metadata": {},
   "outputs": [
    {
     "data": {
      "application/vnd.jupyter.widget-view+json": {
       "model_id": "acdce5a9dfdd480fb0b153a09f174506",
       "version_major": 2,
       "version_minor": 0
      },
      "text/plain": [
       "NGLWidget()"
      ]
     },
     "metadata": {},
     "output_type": "display_data"
    }
   ],
   "source": [
    "offmol_pkl"
   ]
  },
  {
   "cell_type": "code",
   "execution_count": 31,
   "id": "3f0663fd-575a-428e-9e6a-bfeba18bdedb",
   "metadata": {},
   "outputs": [
    {
     "data": {
      "text/plain": [
       "Quantity(value=array([0., 0., 0., 0., 0., 0., 0., 0., 0., 0., 0., 0., 0., 0., 0., 0., 0.,\n",
       "       0., 0., 0., 0., 0., 0., 0., 0., 0., 0., 0., 0., 0., 0., 0., 0., 0.,\n",
       "       0., 0., 0., 0., 0., 0., 0., 0., 0., 0., 0., 0., 0., 0., 0., 0., 0.,\n",
       "       0., 0., 0., 0., 0., 0., 0., 0., 0., 0., 0., 0., 0., 0., 0., 0., 0.,\n",
       "       0., 0., 0., 0., 0., 0., 0., 0., 0., 0., 0., 0., 0., 0., 0., 0., 0.,\n",
       "       0., 0., 0., 0.]), unit=elementary charge)"
      ]
     },
     "execution_count": 31,
     "metadata": {},
     "output_type": "execute_result"
    }
   ],
   "source": [
    "offmol_pkl.partial_charges - offmol.partial_charges"
   ]
  },
  {
   "cell_type": "code",
   "execution_count": null,
   "id": "b11dc1f2-179c-4fda-8e86-fd2ed595c280",
   "metadata": {},
   "outputs": [],
   "source": []
  },
  {
   "cell_type": "code",
   "execution_count": null,
   "id": "df85ca6b-8673-479f-97c0-c1176393923c",
   "metadata": {},
   "outputs": [],
   "source": []
  }
 ],
 "metadata": {
  "kernelspec": {
   "display_name": "Python 3 (ipykernel)",
   "language": "python",
   "name": "python3"
  },
  "language_info": {
   "codemirror_mode": {
    "name": "ipython",
    "version": 3
   },
   "file_extension": ".py",
   "mimetype": "text/x-python",
   "name": "python",
   "nbconvert_exporter": "python",
   "pygments_lexer": "ipython3",
   "version": "3.9.13"
  }
 },
 "nbformat": 4,
 "nbformat_minor": 5
}
