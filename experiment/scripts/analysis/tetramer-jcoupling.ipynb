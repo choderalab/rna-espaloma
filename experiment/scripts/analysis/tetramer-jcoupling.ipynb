{
 "cells": [
  {
   "cell_type": "markdown",
   "id": "2863522b-6588-40a7-868b-ea44fc3cf9c5",
   "metadata": {},
   "source": [
    "# Calculate Jcoupling\n",
    "https://github.com/srnas/barnaba/blob/master/examples/example_05_scalar_couplings.ipynb"
   ]
  },
  {
   "cell_type": "code",
   "execution_count": 1,
   "id": "d820f223-d4f3-4ce7-9eef-06542a5904c6",
   "metadata": {},
   "outputs": [
    {
     "name": "stderr",
     "output_type": "stream",
     "text": [
      "Warning: importing 'simtk.openmm' is deprecated.  Import 'openmm' instead.\n"
     ]
    }
   ],
   "source": [
    "import os, sys, math\n",
    "import numpy as np\n",
    "import glob\n",
    "import mdtraj\n",
    "import logging\n",
    "import matplotlib.pyplot as plt\n",
    "import seaborn as sns\n",
    "import netCDF4 as nc\n",
    "import warnings\n",
    "\n",
    "#from openmmtools.multistate import ReplicaExchangeSampler, MultiStateReporter\n",
    "import openmmtools as mmtools\n",
    "from pymbar import timeseries\n",
    "from openmm import *\n",
    "from openmm.app import *\n",
    "#from openmm.unit import *\n",
    "\n",
    "import barnaba as bb\n",
    "from barnaba import definitions\n",
    "from barnaba.nucleic import Nucleic"
   ]
  },
  {
   "cell_type": "markdown",
   "id": "8cbec321-cbdb-4a5b-bbf0-47f234f3cb77",
   "metadata": {},
   "source": [
    "#### define input file"
   ]
  },
  {
   "cell_type": "code",
   "execution_count": 2,
   "id": "1911e1c5-52ed-41bc-82d7-990969f7126d",
   "metadata": {},
   "outputs": [],
   "source": [
    "pdb_init = \"../../eq/solvated.pdb\"\n",
    "pdb_min = \"../../eq/min.pdb\"\n",
    "traj = \"../../eq/traj.nc\""
   ]
  },
  {
   "cell_type": "code",
   "execution_count": 3,
   "id": "86689d44-7e42-4019-9505-604767d3f4c7",
   "metadata": {},
   "outputs": [
    {
     "name": "stdout",
     "output_type": "stream",
     "text": [
      "['C', 'C', 'C', 'C']\n"
     ]
    }
   ],
   "source": [
    "_ = mdtraj.load_pdb(pdb_init)\n",
    "rnames = [ residue.name for residue in _.topology.residues if residue.name not in [\"HOH\", \"NA\", \"CL\"]]\n",
    "print(rnames)"
   ]
  },
  {
   "cell_type": "markdown",
   "id": "8ad9a910-1f43-4d29-abda-0e5d2e129d96",
   "metadata": {},
   "source": [
    "#### calculate jcoupling\n",
    "\n",
    "We here calculate 3J scalar couplings for an entire trajectory The following couplings can be calculated:\n",
    "\n",
    "**In the sugar:**\n",
    "- H1H2. function of torsion angle H1'-C1'-C2'-H2' -> nu1  \n",
    "- H2H3. function of torsion angle H2'-C2'-C3'-H3' -> nu2  \n",
    "- H3H4. function of torsion angle H3'-C3'-C4'-H4' -> nu3  \n",
    "\n",
    "**In the backbone:**\n",
    "- 1H5P, 2H5P, C4Pb. Function of beta torsion angle -> beta  \n",
    "- 1H5H4,2H5H4. Function of gamma torsion angle -> gamma  \n",
    "- H3P,C4Pe. Function of epsilon torsion angle -> epsilon  \n",
    "\n",
    "**In the nucleobase:**\n",
    "- H1C2/4, H1C6/8. Function of chi torsion angle  -> chi  \n",
    "by default, all scalar couplings for all residues are calculated.\n",
    "\n",
    "This means that the output of the jcoupling function is a `n x m x 12` array, where\n",
    "n = # of frames\n",
    "m = # of nucleobases\n",
    "12 = total number of couplings\n",
    "\n",
    "rr is the list of residue names\n",
    "\n",
    "**ATT!** it is important that the atom names follow the amber naming conventions. This is tricky for hydrogens. Other names may not be recognized!"
   ]
  },
  {
   "cell_type": "code",
   "execution_count": 28,
   "id": "65bc36e9-16b1-482f-bab8-6c6eb808065f",
   "metadata": {},
   "outputs": [
    {
     "name": "stdout",
     "output_type": "stream",
     "text": [
      "(110, 4, 8)\n"
     ]
    },
    {
     "name": "stderr",
     "output_type": "stream",
     "text": [
      "# Loading ../../eq/traj.nc \n"
     ]
    }
   ],
   "source": [
    "mydict={}\n",
    "mydict[\"H1H2\"] = \"nu1\"\n",
    "mydict[\"H2H3\"] = \"nu2\"\n",
    "mydict[\"H3H4\"] = \"nu3\"\n",
    "mydict[\"1H5P\"] = \"beta1\"\n",
    "mydict[\"2H5P\"] = \"beta2\"\n",
    "mydict[\"1H5H4\"] = \"gamma1\"\n",
    "mydict[\"2H5H4\"] = \"gamma2\"\n",
    "mydict[\"H3P\"] = \"epsilon\"\n",
    "\n",
    "couplings, rr = bb.jcouplings(traj,topology=pdb_init, couplings=[\"H1H2\", \"H2H3\", \"H3H4\", \"1H5P\", \"2H5P\", \"1H5H4\", \"2H5H4\", \"H3P\"] )\n",
    "#couplings, rr = bb.jcouplings(traj,topology=pdb_init)\n",
    "print(couplings.shape)"
   ]
  },
  {
   "cell_type": "markdown",
   "id": "3ff9ab63-d7d3-4d5e-8125-315d42b7820e",
   "metadata": {},
   "source": [
    "We now print only the couplings relative to the first residue of the first frame"
   ]
  },
  {
   "cell_type": "code",
   "execution_count": 30,
   "id": "b6677be5-2a2f-43cd-978c-164a8307fd03",
   "metadata": {},
   "outputs": [
    {
     "name": "stdout",
     "output_type": "stream",
     "text": [
      "       nu1      1.8225 Hz\n",
      "        nu2      6.5275 Hz\n",
      "        nu3      8.1016 Hz\n",
      "      beta1         nan Hz\n",
      "      beta2         nan Hz\n",
      "     gamma1      0.8173 Hz\n",
      "     gamma2      2.3718 Hz\n",
      "    epsilon     10.3689 Hz\n",
      " \n",
      "\n",
      "\n"
     ]
    }
   ],
   "source": [
    "from barnaba import definitions\n",
    "for e in range(1):\n",
    "    stri = \"\"\n",
    "    for k in range(1):\n",
    "        for l in range(couplings.shape[2]):\n",
    "            #stri += \"%10s \" %  list(definitions.couplings_idx.keys())[l]\n",
    "            stri += \"%10s \" % list(mydict.values())[l]\n",
    "            stri += \" %10.4f Hz\\n \" % couplings[e,k,l]\n",
    "        stri += \"\\n\"\n",
    "stri += \"\\n\"\n",
    "print(stri)    "
   ]
  },
  {
   "cell_type": "markdown",
   "id": "fee5e75d-a816-4f04-9cf5-d9aa2833cccf",
   "metadata": {},
   "source": [
    "calculate average and standard deviation"
   ]
  },
  {
   "cell_type": "code",
   "execution_count": null,
   "id": "d476222a-4f62-4081-a76e-53465a00cc4b",
   "metadata": {},
   "outputs": [],
   "source": []
  },
  {
   "cell_type": "markdown",
   "id": "490fa09e-72d7-4ad7-84bc-827be19a516c",
   "metadata": {},
   "source": [
    "But we can also plot the histogram of the H1H2 couplings for all frames"
   ]
  },
  {
   "cell_type": "code",
   "execution_count": 7,
   "id": "2fca00cb-2bc8-4b5c-ab6a-799c04d892d6",
   "metadata": {},
   "outputs": [
    {
     "data": {
      "text/plain": [
       "Text(0.5, 0, 'H1H2 coupling, residue C_1_0 (Hz)')"
      ]
     },
     "execution_count": 7,
     "metadata": {},
     "output_type": "execute_result"
    },
    {
     "data": {
      "image/png": "[encoded data removed]",
      "text/plain": [
       "<Figure size 432x288 with 1 Axes>"
      ]
     },
     "metadata": {
      "needs_background": "light"
     },
     "output_type": "display_data"
    }
   ],
   "source": [
    "plt.hist(couplings[:,0,0],bins=30,density=True)\n",
    "plt.xlabel(\"H1H2 coupling, residue %s (Hz)\" % rr[0])"
   ]
  },
  {
   "cell_type": "markdown",
   "id": "b0eae1af-a2ae-4645-a1b3-ce19d6e6b959",
   "metadata": {
    "jp-MarkdownHeadingCollapsed": true,
    "tags": []
   },
   "source": [
    "If the keyword raw=True, the output is the value of the torsion angle, and not the coupling. For example\n",
    "\n",
    "`angles,rr = bb.jcouplings(traj,topology=top,raw=True,residues=[\"RC5_1_0\"])`\n",
    "\n",
    "returns the angles in radians for all frames of the residue RC3_1_0. As usual, the naming convention is RESNAME_RESNUMBER_CHAININDEX. Note that the shape of the array angles is n x m x 6, where\n",
    "n = # number of frames\n",
    "m = # number of residues in the list (in this specific example m=1)\n",
    "6 = number of torsion angles that are needed for the couplings calculations (H1'-H2',H2'-H3',H3'-H4',beta,gamma,epsilon,chi )"
   ]
  },
  {
   "cell_type": "code",
   "execution_count": 10,
   "id": "35e9556c-aebc-4c79-a9c5-76bf70c4fb42",
   "metadata": {},
   "outputs": [
    {
     "name": "stdout",
     "output_type": "stream",
     "text": [
      "(110, 1, 7)\n"
     ]
    },
    {
     "name": "stderr",
     "output_type": "stream",
     "text": [
      "# Loading ../../eq/traj.nc \n"
     ]
    },
    {
     "data": {
      "text/plain": [
       "Text(0.5, 0, \"H1'-C1'-C2'-H2' angle, residue C_1_0 (rad)\")"
      ]
     },
     "execution_count": 10,
     "metadata": {},
     "output_type": "execute_result"
    },
    {
     "data": {
      "image/png": "[encoded data removed]",
      "text/plain": [
       "<Figure size 432x288 with 1 Axes>"
      ]
     },
     "metadata": {
      "needs_background": "light"
     },
     "output_type": "display_data"
    }
   ],
   "source": [
    "angles, rr = bb.jcouplings(traj, topology=pdb_init, residues=[\"C_1_0\"], raw=True)\n",
    "print(angles.shape)\n",
    "\n",
    "plt.hist(angles[:,0,0], bins=30, density=True)\n",
    "plt.xlabel(\"H1'-C1'-C2'-H2' angle, residue %s (rad)\" % rr[0])"
   ]
  },
  {
   "cell_type": "code",
   "execution_count": null,
   "id": "acc853e0-b5f3-4b0e-915f-9fb240fdfbc2",
   "metadata": {},
   "outputs": [],
   "source": []
  },
  {
   "cell_type": "code",
   "execution_count": null,
   "id": "8c659a74-bb65-4f11-863d-77a2e1c75058",
   "metadata": {},
   "outputs": [],
   "source": []
  }
 ],
 "metadata": {
  "kernelspec": {
   "display_name": "Python 3 (ipykernel)",
   "language": "python",
   "name": "python3"
  },
  "language_info": {
   "codemirror_mode": {
    "name": "ipython",
    "version": 3
   },
   "file_extension": ".py",
   "mimetype": "text/x-python",
   "name": "python",
   "nbconvert_exporter": "python",
   "pygments_lexer": "ipython3",
   "version": "3.9.13"
  }
 },
 "nbformat": 4,
 "nbformat_minor": 5
}
